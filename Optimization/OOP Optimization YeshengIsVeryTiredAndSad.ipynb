{
 "cells": [
  {
   "cell_type": "code",
   "execution_count": 1,
   "metadata": {},
   "outputs": [],
   "source": [
    "#List of imports\n",
    "\n",
    "import pandas as pd\n",
    "import numpy as np\n",
    "from scipy import stats\n",
    "from sklearn.linear_model import LinearRegression, Ridge, Lasso\n",
    "import hmmlearn as hmm\n",
    "\n",
    "import urllib.request\n",
    "import zipfile\n",
    "import cvxpy as cp\n",
    "import matplotlib.ticker as mtick\n",
    "import matplotlib.pyplot as plt\n",
    "import itertools\n",
    "\n",
    "## Additions below\n",
    "from sklearn.model_selection import train_test_split\n",
    "from sklearn.svm import LinearSVR\n",
    "from sklearn.pipeline import make_pipeline\n",
    "from sklearn.multioutput import MultiOutputRegressor\n",
    "from sklearn.preprocessing import StandardScaler"
   ]
  },
  {
   "cell_type": "code",
   "execution_count": 2,
   "metadata": {},
   "outputs": [],
   "source": [
    "from tqdm.notebook import tqdm\n",
    "import warnings; warnings.simplefilter('ignore')"
   ]
  },
  {
   "cell_type": "code",
   "execution_count": 90,
   "metadata": {
    "scrolled": true
   },
   "outputs": [
    {
     "name": "stderr",
     "output_type": "stream",
     "text": [
      "C:\\Users\\Windows\\Anaconda3\\envs\\aps360\\lib\\site-packages\\ipykernel_launcher.py:49: SettingWithCopyWarning: \n",
      "A value is trying to be set on a copy of a slice from a DataFrame.\n",
      "Try using .loc[row_indexer,col_indexer] = value instead\n",
      "\n",
      "See the caveats in the documentation: https://pandas.pydata.org/pandas-docs/stable/user_guide/indexing.html#returning-a-view-versus-a-copy\n",
      "C:\\Users\\Windows\\Anaconda3\\envs\\aps360\\lib\\site-packages\\ipykernel_launcher.py:49: SettingWithCopyWarning: \n",
      "A value is trying to be set on a copy of a slice from a DataFrame.\n",
      "Try using .loc[row_indexer,col_indexer] = value instead\n",
      "\n",
      "See the caveats in the documentation: https://pandas.pydata.org/pandas-docs/stable/user_guide/indexing.html#returning-a-view-versus-a-copy\n"
     ]
    },
    {
     "name": "stdout",
     "output_type": "stream",
     "text": [
      "port value period: [[0.05]]\n",
      "port return: 0.05000000000000002\n",
      "risk value: 0.0023218105196975885\n",
      "holding cost: 0.0009832536459761234\n",
      "trans cost: 0.0029665072919522464\n",
      "port value period: [[0.05]]\n",
      "port return: 0.05\n",
      "risk value: 0.0020473017695537186\n",
      "holding cost: 0.00298934748400137\n",
      "trans cost: 0.005618692400543519\n"
     ]
    },
    {
     "name": "stderr",
     "output_type": "stream",
     "text": [
      "C:\\Users\\Windows\\Anaconda3\\envs\\aps360\\lib\\site-packages\\ipykernel_launcher.py:49: SettingWithCopyWarning: \n",
      "A value is trying to be set on a copy of a slice from a DataFrame.\n",
      "Try using .loc[row_indexer,col_indexer] = value instead\n",
      "\n",
      "See the caveats in the documentation: https://pandas.pydata.org/pandas-docs/stable/user_guide/indexing.html#returning-a-view-versus-a-copy\n",
      "C:\\Users\\Windows\\Anaconda3\\envs\\aps360\\lib\\site-packages\\ipykernel_launcher.py:49: SettingWithCopyWarning: \n",
      "A value is trying to be set on a copy of a slice from a DataFrame.\n",
      "Try using .loc[row_indexer,col_indexer] = value instead\n",
      "\n",
      "See the caveats in the documentation: https://pandas.pydata.org/pandas-docs/stable/user_guide/indexing.html#returning-a-view-versus-a-copy\n"
     ]
    },
    {
     "name": "stdout",
     "output_type": "stream",
     "text": [
      "port value period: [[0.05]]\n",
      "port return: 0.049999999999999996\n",
      "risk value: 0.002244712762746574\n",
      "holding cost: 0.004578961563618599\n",
      "trans cost: 0.007770544628937907\n",
      "port value period: [[0.05]]\n",
      "port return: 0.05\n",
      "risk value: 0.0022569353604759684\n",
      "holding cost: 0.005909615077256423\n",
      "trans cost: 0.009985765971079918\n"
     ]
    },
    {
     "name": "stderr",
     "output_type": "stream",
     "text": [
      "C:\\Users\\Windows\\Anaconda3\\envs\\aps360\\lib\\site-packages\\ipykernel_launcher.py:49: SettingWithCopyWarning: \n",
      "A value is trying to be set on a copy of a slice from a DataFrame.\n",
      "Try using .loc[row_indexer,col_indexer] = value instead\n",
      "\n",
      "See the caveats in the documentation: https://pandas.pydata.org/pandas-docs/stable/user_guide/indexing.html#returning-a-view-versus-a-copy\n",
      "C:\\Users\\Windows\\Anaconda3\\envs\\aps360\\lib\\site-packages\\ipykernel_launcher.py:49: SettingWithCopyWarning: \n",
      "A value is trying to be set on a copy of a slice from a DataFrame.\n",
      "Try using .loc[row_indexer,col_indexer] = value instead\n",
      "\n",
      "See the caveats in the documentation: https://pandas.pydata.org/pandas-docs/stable/user_guide/indexing.html#returning-a-view-versus-a-copy\n"
     ]
    },
    {
     "name": "stdout",
     "output_type": "stream",
     "text": [
      "port value period: [[0.05]]\n",
      "port return: 0.05000000000000002\n",
      "risk value: 0.0021536074927828823\n",
      "holding cost: 0.00826578525213345\n",
      "trans cost: 0.013936696999740416\n",
      "port value period: [[0.05]]\n",
      "port return: 0.05\n",
      "risk value: 0.0017667870220079989\n",
      "holding cost: 0.010260821787173531\n",
      "trans cost: 0.017180998388769346\n"
     ]
    },
    {
     "name": "stderr",
     "output_type": "stream",
     "text": [
      "C:\\Users\\Windows\\Anaconda3\\envs\\aps360\\lib\\site-packages\\ipykernel_launcher.py:49: SettingWithCopyWarning: \n",
      "A value is trying to be set on a copy of a slice from a DataFrame.\n",
      "Try using .loc[row_indexer,col_indexer] = value instead\n",
      "\n",
      "See the caveats in the documentation: https://pandas.pydata.org/pandas-docs/stable/user_guide/indexing.html#returning-a-view-versus-a-copy\n",
      "C:\\Users\\Windows\\Anaconda3\\envs\\aps360\\lib\\site-packages\\ipykernel_launcher.py:49: SettingWithCopyWarning: \n",
      "A value is trying to be set on a copy of a slice from a DataFrame.\n",
      "Try using .loc[row_indexer,col_indexer] = value instead\n",
      "\n",
      "See the caveats in the documentation: https://pandas.pydata.org/pandas-docs/stable/user_guide/indexing.html#returning-a-view-versus-a-copy\n"
     ]
    },
    {
     "name": "stdout",
     "output_type": "stream",
     "text": [
      "port value period: [[0.05]]\n",
      "port return: 0.049999999999999996\n",
      "risk value: 0.0022829552796718\n",
      "holding cost: 0.013475393026039298\n",
      "trans cost: 0.02193550066301295\n",
      "port value period: [[0.05]]\n",
      "port return: 0.05000000000000001\n",
      "risk value: 0.002266556881942448\n",
      "holding cost: 0.015839446328715225\n",
      "trans cost: 0.025243642248708002\n"
     ]
    },
    {
     "name": "stderr",
     "output_type": "stream",
     "text": [
      "C:\\Users\\Windows\\Anaconda3\\envs\\aps360\\lib\\site-packages\\ipykernel_launcher.py:49: SettingWithCopyWarning: \n",
      "A value is trying to be set on a copy of a slice from a DataFrame.\n",
      "Try using .loc[row_indexer,col_indexer] = value instead\n",
      "\n",
      "See the caveats in the documentation: https://pandas.pydata.org/pandas-docs/stable/user_guide/indexing.html#returning-a-view-versus-a-copy\n",
      "C:\\Users\\Windows\\Anaconda3\\envs\\aps360\\lib\\site-packages\\ipykernel_launcher.py:49: SettingWithCopyWarning: \n",
      "A value is trying to be set on a copy of a slice from a DataFrame.\n",
      "Try using .loc[row_indexer,col_indexer] = value instead\n",
      "\n",
      "See the caveats in the documentation: https://pandas.pydata.org/pandas-docs/stable/user_guide/indexing.html#returning-a-view-versus-a-copy\n"
     ]
    },
    {
     "name": "stdout",
     "output_type": "stream",
     "text": [
      "port value period: [[0.05]]\n",
      "port return: 0.05\n",
      "risk value: 0.0024122293769725453\n",
      "holding cost: 0.01681743569182686\n",
      "trans cost: 0.0276741147879879\n",
      "port value period: [[0.05]]\n",
      "port return: 0.05\n",
      "risk value: 0.0034259470709592536\n",
      "holding cost: 0.01843842772847586\n",
      "trans cost: 0.030733584391093482\n"
     ]
    },
    {
     "name": "stderr",
     "output_type": "stream",
     "text": [
      "C:\\Users\\Windows\\Anaconda3\\envs\\aps360\\lib\\site-packages\\ipykernel_launcher.py:49: SettingWithCopyWarning: \n",
      "A value is trying to be set on a copy of a slice from a DataFrame.\n",
      "Try using .loc[row_indexer,col_indexer] = value instead\n",
      "\n",
      "See the caveats in the documentation: https://pandas.pydata.org/pandas-docs/stable/user_guide/indexing.html#returning-a-view-versus-a-copy\n",
      "C:\\Users\\Windows\\Anaconda3\\envs\\aps360\\lib\\site-packages\\ipykernel_launcher.py:49: SettingWithCopyWarning: \n",
      "A value is trying to be set on a copy of a slice from a DataFrame.\n",
      "Try using .loc[row_indexer,col_indexer] = value instead\n",
      "\n",
      "See the caveats in the documentation: https://pandas.pydata.org/pandas-docs/stable/user_guide/indexing.html#returning-a-view-versus-a-copy\n"
     ]
    },
    {
     "name": "stdout",
     "output_type": "stream",
     "text": [
      "port value period: [[0.05]]\n",
      "port return: 0.05000000000000001\n",
      "risk value: 0.003623628039452079\n",
      "holding cost: 0.02103363004431931\n",
      "trans cost: 0.03415295790543807\n",
      "port value period: [[0.03237012]]\n",
      "port return: 0.05\n",
      "risk value: 0.00452202986590907\n",
      "holding cost: 0.02355407232959986\n",
      "trans cost: 0.03574143152591127\n"
     ]
    },
    {
     "name": "stderr",
     "output_type": "stream",
     "text": [
      "C:\\Users\\Windows\\Anaconda3\\envs\\aps360\\lib\\site-packages\\ipykernel_launcher.py:49: SettingWithCopyWarning: \n",
      "A value is trying to be set on a copy of a slice from a DataFrame.\n",
      "Try using .loc[row_indexer,col_indexer] = value instead\n",
      "\n",
      "See the caveats in the documentation: https://pandas.pydata.org/pandas-docs/stable/user_guide/indexing.html#returning-a-view-versus-a-copy\n"
     ]
    },
    {
     "name": "stdout",
     "output_type": "stream",
     "text": [
      "port value period: [[0.03588658]]\n",
      "port return: 0.05\n",
      "risk value: 0.003949212101706552\n",
      "holding cost: 0.02631484890246848\n",
      "trans cost: 0.03920432516321687\n",
      "Unsolvable, use old weights\n"
     ]
    },
    {
     "name": "stderr",
     "output_type": "stream",
     "text": [
      "C:\\Users\\Windows\\Anaconda3\\envs\\aps360\\lib\\site-packages\\ipykernel_launcher.py:49: SettingWithCopyWarning: \n",
      "A value is trying to be set on a copy of a slice from a DataFrame.\n",
      "Try using .loc[row_indexer,col_indexer] = value instead\n",
      "\n",
      "See the caveats in the documentation: https://pandas.pydata.org/pandas-docs/stable/user_guide/indexing.html#returning-a-view-versus-a-copy\n",
      "C:\\Users\\Windows\\Anaconda3\\envs\\aps360\\lib\\site-packages\\cvxpy\\problems\\problem.py:1061: UserWarning: Solution may be inaccurate. Try another solver, adjusting the solver settings, or solve with verbose=True for more information.\n",
      "  \"Solution may be inaccurate. Try another solver, \"\n",
      "C:\\Users\\Windows\\Anaconda3\\envs\\aps360\\lib\\site-packages\\ipykernel_launcher.py:49: SettingWithCopyWarning: \n",
      "A value is trying to be set on a copy of a slice from a DataFrame.\n",
      "Try using .loc[row_indexer,col_indexer] = value instead\n",
      "\n",
      "See the caveats in the documentation: https://pandas.pydata.org/pandas-docs/stable/user_guide/indexing.html#returning-a-view-versus-a-copy\n",
      "C:\\Users\\Windows\\Anaconda3\\envs\\aps360\\lib\\site-packages\\cvxpy\\problems\\problem.py:1061: UserWarning: Solution may be inaccurate. Try another solver, adjusting the solver settings, or solve with verbose=True for more information.\n",
      "  \"Solution may be inaccurate. Try another solver, \"\n",
      "C:\\Users\\Windows\\Anaconda3\\envs\\aps360\\lib\\site-packages\\ipykernel_launcher.py:49: SettingWithCopyWarning: \n",
      "A value is trying to be set on a copy of a slice from a DataFrame.\n",
      "Try using .loc[row_indexer,col_indexer] = value instead\n",
      "\n",
      "See the caveats in the documentation: https://pandas.pydata.org/pandas-docs/stable/user_guide/indexing.html#returning-a-view-versus-a-copy\n",
      "C:\\Users\\Windows\\Anaconda3\\envs\\aps360\\lib\\site-packages\\cvxpy\\problems\\problem.py:1061: UserWarning: Solution may be inaccurate. Try another solver, adjusting the solver settings, or solve with verbose=True for more information.\n",
      "  \"Solution may be inaccurate. Try another solver, \"\n",
      "C:\\Users\\Windows\\Anaconda3\\envs\\aps360\\lib\\site-packages\\ipykernel_launcher.py:49: SettingWithCopyWarning: \n",
      "A value is trying to be set on a copy of a slice from a DataFrame.\n",
      "Try using .loc[row_indexer,col_indexer] = value instead\n",
      "\n",
      "See the caveats in the documentation: https://pandas.pydata.org/pandas-docs/stable/user_guide/indexing.html#returning-a-view-versus-a-copy\n"
     ]
    },
    {
     "name": "stdout",
     "output_type": "stream",
     "text": [
      "Unsolvable, use old weights\n",
      "Unsolvable, use old weights\n"
     ]
    },
    {
     "name": "stderr",
     "output_type": "stream",
     "text": [
      "C:\\Users\\Windows\\Anaconda3\\envs\\aps360\\lib\\site-packages\\cvxpy\\problems\\problem.py:1061: UserWarning: Solution may be inaccurate. Try another solver, adjusting the solver settings, or solve with verbose=True for more information.\n",
      "  \"Solution may be inaccurate. Try another solver, \"\n",
      "C:\\Users\\Windows\\Anaconda3\\envs\\aps360\\lib\\site-packages\\ipykernel_launcher.py:49: SettingWithCopyWarning: \n",
      "A value is trying to be set on a copy of a slice from a DataFrame.\n",
      "Try using .loc[row_indexer,col_indexer] = value instead\n",
      "\n",
      "See the caveats in the documentation: https://pandas.pydata.org/pandas-docs/stable/user_guide/indexing.html#returning-a-view-versus-a-copy\n",
      "C:\\Users\\Windows\\Anaconda3\\envs\\aps360\\lib\\site-packages\\cvxpy\\problems\\problem.py:1061: UserWarning: Solution may be inaccurate. Try another solver, adjusting the solver settings, or solve with verbose=True for more information.\n",
      "  \"Solution may be inaccurate. Try another solver, \"\n"
     ]
    },
    {
     "name": "stdout",
     "output_type": "stream",
     "text": [
      "Unsolvable, use old weights\n",
      "Unsolvable, use old weights\n"
     ]
    },
    {
     "name": "stderr",
     "output_type": "stream",
     "text": [
      "C:\\Users\\Windows\\Anaconda3\\envs\\aps360\\lib\\site-packages\\ipykernel_launcher.py:49: SettingWithCopyWarning: \n",
      "A value is trying to be set on a copy of a slice from a DataFrame.\n",
      "Try using .loc[row_indexer,col_indexer] = value instead\n",
      "\n",
      "See the caveats in the documentation: https://pandas.pydata.org/pandas-docs/stable/user_guide/indexing.html#returning-a-view-versus-a-copy\n",
      "C:\\Users\\Windows\\Anaconda3\\envs\\aps360\\lib\\site-packages\\cvxpy\\problems\\problem.py:1061: UserWarning: Solution may be inaccurate. Try another solver, adjusting the solver settings, or solve with verbose=True for more information.\n",
      "  \"Solution may be inaccurate. Try another solver, \"\n",
      "C:\\Users\\Windows\\Anaconda3\\envs\\aps360\\lib\\site-packages\\ipykernel_launcher.py:49: SettingWithCopyWarning: \n",
      "A value is trying to be set on a copy of a slice from a DataFrame.\n",
      "Try using .loc[row_indexer,col_indexer] = value instead\n",
      "\n",
      "See the caveats in the documentation: https://pandas.pydata.org/pandas-docs/stable/user_guide/indexing.html#returning-a-view-versus-a-copy\n"
     ]
    },
    {
     "name": "stdout",
     "output_type": "stream",
     "text": [
      "Unsolvable, use old weights\n"
     ]
    },
    {
     "name": "stderr",
     "output_type": "stream",
     "text": [
      "C:\\Users\\Windows\\Anaconda3\\envs\\aps360\\lib\\site-packages\\cvxpy\\problems\\problem.py:1061: UserWarning: Solution may be inaccurate. Try another solver, adjusting the solver settings, or solve with verbose=True for more information.\n",
      "  \"Solution may be inaccurate. Try another solver, \"\n",
      "C:\\Users\\Windows\\Anaconda3\\envs\\aps360\\lib\\site-packages\\ipykernel_launcher.py:49: SettingWithCopyWarning: \n",
      "A value is trying to be set on a copy of a slice from a DataFrame.\n",
      "Try using .loc[row_indexer,col_indexer] = value instead\n",
      "\n",
      "See the caveats in the documentation: https://pandas.pydata.org/pandas-docs/stable/user_guide/indexing.html#returning-a-view-versus-a-copy\n"
     ]
    },
    {
     "name": "stdout",
     "output_type": "stream",
     "text": [
      "Unsolvable, use old weights\n"
     ]
    },
    {
     "name": "stderr",
     "output_type": "stream",
     "text": [
      "C:\\Users\\Windows\\Anaconda3\\envs\\aps360\\lib\\site-packages\\cvxpy\\problems\\problem.py:1061: UserWarning: Solution may be inaccurate. Try another solver, adjusting the solver settings, or solve with verbose=True for more information.\n",
      "  \"Solution may be inaccurate. Try another solver, \"\n",
      "C:\\Users\\Windows\\Anaconda3\\envs\\aps360\\lib\\site-packages\\ipykernel_launcher.py:49: SettingWithCopyWarning: \n",
      "A value is trying to be set on a copy of a slice from a DataFrame.\n",
      "Try using .loc[row_indexer,col_indexer] = value instead\n",
      "\n",
      "See the caveats in the documentation: https://pandas.pydata.org/pandas-docs/stable/user_guide/indexing.html#returning-a-view-versus-a-copy\n",
      "C:\\Users\\Windows\\Anaconda3\\envs\\aps360\\lib\\site-packages\\cvxpy\\problems\\problem.py:1061: UserWarning: Solution may be inaccurate. Try another solver, adjusting the solver settings, or solve with verbose=True for more information.\n",
      "  \"Solution may be inaccurate. Try another solver, \"\n"
     ]
    },
    {
     "name": "stdout",
     "output_type": "stream",
     "text": [
      "Unsolvable, use old weights\n"
     ]
    },
    {
     "name": "stderr",
     "output_type": "stream",
     "text": [
      "C:\\Users\\Windows\\Anaconda3\\envs\\aps360\\lib\\site-packages\\ipykernel_launcher.py:49: SettingWithCopyWarning: \n",
      "A value is trying to be set on a copy of a slice from a DataFrame.\n",
      "Try using .loc[row_indexer,col_indexer] = value instead\n",
      "\n",
      "See the caveats in the documentation: https://pandas.pydata.org/pandas-docs/stable/user_guide/indexing.html#returning-a-view-versus-a-copy\n",
      "C:\\Users\\Windows\\Anaconda3\\envs\\aps360\\lib\\site-packages\\cvxpy\\problems\\problem.py:1061: UserWarning: Solution may be inaccurate. Try another solver, adjusting the solver settings, or solve with verbose=True for more information.\n",
      "  \"Solution may be inaccurate. Try another solver, \"\n",
      "C:\\Users\\Windows\\Anaconda3\\envs\\aps360\\lib\\site-packages\\ipykernel_launcher.py:49: SettingWithCopyWarning: \n",
      "A value is trying to be set on a copy of a slice from a DataFrame.\n",
      "Try using .loc[row_indexer,col_indexer] = value instead\n",
      "\n",
      "See the caveats in the documentation: https://pandas.pydata.org/pandas-docs/stable/user_guide/indexing.html#returning-a-view-versus-a-copy\n"
     ]
    },
    {
     "name": "stdout",
     "output_type": "stream",
     "text": [
      "Unsolvable, use old weights\n",
      "Unsolvable, use old weights\n"
     ]
    },
    {
     "name": "stderr",
     "output_type": "stream",
     "text": [
      "C:\\Users\\Windows\\Anaconda3\\envs\\aps360\\lib\\site-packages\\cvxpy\\problems\\problem.py:1061: UserWarning: Solution may be inaccurate. Try another solver, adjusting the solver settings, or solve with verbose=True for more information.\n",
      "  \"Solution may be inaccurate. Try another solver, \"\n",
      "C:\\Users\\Windows\\Anaconda3\\envs\\aps360\\lib\\site-packages\\ipykernel_launcher.py:49: SettingWithCopyWarning: \n",
      "A value is trying to be set on a copy of a slice from a DataFrame.\n",
      "Try using .loc[row_indexer,col_indexer] = value instead\n",
      "\n",
      "See the caveats in the documentation: https://pandas.pydata.org/pandas-docs/stable/user_guide/indexing.html#returning-a-view-versus-a-copy\n"
     ]
    },
    {
     "name": "stdout",
     "output_type": "stream",
     "text": [
      "Unsolvable, use old weights\n"
     ]
    },
    {
     "name": "stderr",
     "output_type": "stream",
     "text": [
      "C:\\Users\\Windows\\Anaconda3\\envs\\aps360\\lib\\site-packages\\cvxpy\\problems\\problem.py:1061: UserWarning: Solution may be inaccurate. Try another solver, adjusting the solver settings, or solve with verbose=True for more information.\n",
      "  \"Solution may be inaccurate. Try another solver, \"\n",
      "C:\\Users\\Windows\\Anaconda3\\envs\\aps360\\lib\\site-packages\\ipykernel_launcher.py:49: SettingWithCopyWarning: \n",
      "A value is trying to be set on a copy of a slice from a DataFrame.\n",
      "Try using .loc[row_indexer,col_indexer] = value instead\n",
      "\n",
      "See the caveats in the documentation: https://pandas.pydata.org/pandas-docs/stable/user_guide/indexing.html#returning-a-view-versus-a-copy\n"
     ]
    },
    {
     "name": "stdout",
     "output_type": "stream",
     "text": [
      "Unsolvable, use old weights\n"
     ]
    },
    {
     "name": "stderr",
     "output_type": "stream",
     "text": [
      "C:\\Users\\Windows\\Anaconda3\\envs\\aps360\\lib\\site-packages\\cvxpy\\problems\\problem.py:1061: UserWarning: Solution may be inaccurate. Try another solver, adjusting the solver settings, or solve with verbose=True for more information.\n",
      "  \"Solution may be inaccurate. Try another solver, \"\n",
      "C:\\Users\\Windows\\Anaconda3\\envs\\aps360\\lib\\site-packages\\ipykernel_launcher.py:49: SettingWithCopyWarning: \n",
      "A value is trying to be set on a copy of a slice from a DataFrame.\n",
      "Try using .loc[row_indexer,col_indexer] = value instead\n",
      "\n",
      "See the caveats in the documentation: https://pandas.pydata.org/pandas-docs/stable/user_guide/indexing.html#returning-a-view-versus-a-copy\n"
     ]
    },
    {
     "name": "stdout",
     "output_type": "stream",
     "text": [
      "Unsolvable, use old weights\n"
     ]
    },
    {
     "name": "stderr",
     "output_type": "stream",
     "text": [
      "C:\\Users\\Windows\\Anaconda3\\envs\\aps360\\lib\\site-packages\\cvxpy\\problems\\problem.py:1061: UserWarning: Solution may be inaccurate. Try another solver, adjusting the solver settings, or solve with verbose=True for more information.\n",
      "  \"Solution may be inaccurate. Try another solver, \"\n",
      "C:\\Users\\Windows\\Anaconda3\\envs\\aps360\\lib\\site-packages\\ipykernel_launcher.py:49: SettingWithCopyWarning: \n",
      "A value is trying to be set on a copy of a slice from a DataFrame.\n",
      "Try using .loc[row_indexer,col_indexer] = value instead\n",
      "\n",
      "See the caveats in the documentation: https://pandas.pydata.org/pandas-docs/stable/user_guide/indexing.html#returning-a-view-versus-a-copy\n"
     ]
    },
    {
     "name": "stdout",
     "output_type": "stream",
     "text": [
      "Unsolvable, use old weights\n"
     ]
    },
    {
     "name": "stderr",
     "output_type": "stream",
     "text": [
      "C:\\Users\\Windows\\Anaconda3\\envs\\aps360\\lib\\site-packages\\cvxpy\\problems\\problem.py:1061: UserWarning: Solution may be inaccurate. Try another solver, adjusting the solver settings, or solve with verbose=True for more information.\n",
      "  \"Solution may be inaccurate. Try another solver, \"\n",
      "C:\\Users\\Windows\\Anaconda3\\envs\\aps360\\lib\\site-packages\\ipykernel_launcher.py:49: SettingWithCopyWarning: \n",
      "A value is trying to be set on a copy of a slice from a DataFrame.\n",
      "Try using .loc[row_indexer,col_indexer] = value instead\n",
      "\n",
      "See the caveats in the documentation: https://pandas.pydata.org/pandas-docs/stable/user_guide/indexing.html#returning-a-view-versus-a-copy\n"
     ]
    },
    {
     "name": "stdout",
     "output_type": "stream",
     "text": [
      "Unsolvable, use old weights\n"
     ]
    },
    {
     "name": "stderr",
     "output_type": "stream",
     "text": [
      "C:\\Users\\Windows\\Anaconda3\\envs\\aps360\\lib\\site-packages\\cvxpy\\problems\\problem.py:1061: UserWarning: Solution may be inaccurate. Try another solver, adjusting the solver settings, or solve with verbose=True for more information.\n",
      "  \"Solution may be inaccurate. Try another solver, \"\n",
      "C:\\Users\\Windows\\Anaconda3\\envs\\aps360\\lib\\site-packages\\ipykernel_launcher.py:49: SettingWithCopyWarning: \n",
      "A value is trying to be set on a copy of a slice from a DataFrame.\n",
      "Try using .loc[row_indexer,col_indexer] = value instead\n",
      "\n",
      "See the caveats in the documentation: https://pandas.pydata.org/pandas-docs/stable/user_guide/indexing.html#returning-a-view-versus-a-copy\n"
     ]
    },
    {
     "name": "stdout",
     "output_type": "stream",
     "text": [
      "Unsolvable, use old weights\n"
     ]
    },
    {
     "name": "stderr",
     "output_type": "stream",
     "text": [
      "C:\\Users\\Windows\\Anaconda3\\envs\\aps360\\lib\\site-packages\\cvxpy\\problems\\problem.py:1061: UserWarning: Solution may be inaccurate. Try another solver, adjusting the solver settings, or solve with verbose=True for more information.\n",
      "  \"Solution may be inaccurate. Try another solver, \"\n",
      "C:\\Users\\Windows\\Anaconda3\\envs\\aps360\\lib\\site-packages\\ipykernel_launcher.py:49: SettingWithCopyWarning: \n",
      "A value is trying to be set on a copy of a slice from a DataFrame.\n",
      "Try using .loc[row_indexer,col_indexer] = value instead\n",
      "\n",
      "See the caveats in the documentation: https://pandas.pydata.org/pandas-docs/stable/user_guide/indexing.html#returning-a-view-versus-a-copy\n"
     ]
    },
    {
     "name": "stdout",
     "output_type": "stream",
     "text": [
      "Unsolvable, use old weights\n"
     ]
    },
    {
     "name": "stderr",
     "output_type": "stream",
     "text": [
      "C:\\Users\\Windows\\Anaconda3\\envs\\aps360\\lib\\site-packages\\cvxpy\\problems\\problem.py:1061: UserWarning: Solution may be inaccurate. Try another solver, adjusting the solver settings, or solve with verbose=True for more information.\n",
      "  \"Solution may be inaccurate. Try another solver, \"\n",
      "C:\\Users\\Windows\\Anaconda3\\envs\\aps360\\lib\\site-packages\\ipykernel_launcher.py:49: SettingWithCopyWarning: \n",
      "A value is trying to be set on a copy of a slice from a DataFrame.\n",
      "Try using .loc[row_indexer,col_indexer] = value instead\n",
      "\n",
      "See the caveats in the documentation: https://pandas.pydata.org/pandas-docs/stable/user_guide/indexing.html#returning-a-view-versus-a-copy\n"
     ]
    },
    {
     "name": "stdout",
     "output_type": "stream",
     "text": [
      "Unsolvable, use old weights\n"
     ]
    },
    {
     "name": "stderr",
     "output_type": "stream",
     "text": [
      "C:\\Users\\Windows\\Anaconda3\\envs\\aps360\\lib\\site-packages\\cvxpy\\problems\\problem.py:1061: UserWarning: Solution may be inaccurate. Try another solver, adjusting the solver settings, or solve with verbose=True for more information.\n",
      "  \"Solution may be inaccurate. Try another solver, \"\n",
      "C:\\Users\\Windows\\Anaconda3\\envs\\aps360\\lib\\site-packages\\ipykernel_launcher.py:49: SettingWithCopyWarning: \n",
      "A value is trying to be set on a copy of a slice from a DataFrame.\n",
      "Try using .loc[row_indexer,col_indexer] = value instead\n",
      "\n",
      "See the caveats in the documentation: https://pandas.pydata.org/pandas-docs/stable/user_guide/indexing.html#returning-a-view-versus-a-copy\n"
     ]
    },
    {
     "name": "stdout",
     "output_type": "stream",
     "text": [
      "Unsolvable, use old weights\n"
     ]
    },
    {
     "name": "stderr",
     "output_type": "stream",
     "text": [
      "C:\\Users\\Windows\\Anaconda3\\envs\\aps360\\lib\\site-packages\\cvxpy\\problems\\problem.py:1061: UserWarning: Solution may be inaccurate. Try another solver, adjusting the solver settings, or solve with verbose=True for more information.\n",
      "  \"Solution may be inaccurate. Try another solver, \"\n",
      "C:\\Users\\Windows\\Anaconda3\\envs\\aps360\\lib\\site-packages\\ipykernel_launcher.py:49: SettingWithCopyWarning: \n",
      "A value is trying to be set on a copy of a slice from a DataFrame.\n",
      "Try using .loc[row_indexer,col_indexer] = value instead\n",
      "\n",
      "See the caveats in the documentation: https://pandas.pydata.org/pandas-docs/stable/user_guide/indexing.html#returning-a-view-versus-a-copy\n"
     ]
    },
    {
     "name": "stdout",
     "output_type": "stream",
     "text": [
      "Unsolvable, use old weights\n"
     ]
    },
    {
     "name": "stderr",
     "output_type": "stream",
     "text": [
      "C:\\Users\\Windows\\Anaconda3\\envs\\aps360\\lib\\site-packages\\cvxpy\\problems\\problem.py:1061: UserWarning: Solution may be inaccurate. Try another solver, adjusting the solver settings, or solve with verbose=True for more information.\n",
      "  \"Solution may be inaccurate. Try another solver, \"\n",
      "C:\\Users\\Windows\\Anaconda3\\envs\\aps360\\lib\\site-packages\\ipykernel_launcher.py:49: SettingWithCopyWarning: \n",
      "A value is trying to be set on a copy of a slice from a DataFrame.\n",
      "Try using .loc[row_indexer,col_indexer] = value instead\n",
      "\n",
      "See the caveats in the documentation: https://pandas.pydata.org/pandas-docs/stable/user_guide/indexing.html#returning-a-view-versus-a-copy\n"
     ]
    },
    {
     "name": "stdout",
     "output_type": "stream",
     "text": [
      "Unsolvable, use old weights\n"
     ]
    },
    {
     "name": "stderr",
     "output_type": "stream",
     "text": [
      "C:\\Users\\Windows\\Anaconda3\\envs\\aps360\\lib\\site-packages\\cvxpy\\problems\\problem.py:1061: UserWarning: Solution may be inaccurate. Try another solver, adjusting the solver settings, or solve with verbose=True for more information.\n",
      "  \"Solution may be inaccurate. Try another solver, \"\n",
      "C:\\Users\\Windows\\Anaconda3\\envs\\aps360\\lib\\site-packages\\ipykernel_launcher.py:49: SettingWithCopyWarning: \n",
      "A value is trying to be set on a copy of a slice from a DataFrame.\n",
      "Try using .loc[row_indexer,col_indexer] = value instead\n",
      "\n",
      "See the caveats in the documentation: https://pandas.pydata.org/pandas-docs/stable/user_guide/indexing.html#returning-a-view-versus-a-copy\n"
     ]
    },
    {
     "name": "stdout",
     "output_type": "stream",
     "text": [
      "Unsolvable, use old weights\n"
     ]
    },
    {
     "name": "stderr",
     "output_type": "stream",
     "text": [
      "C:\\Users\\Windows\\Anaconda3\\envs\\aps360\\lib\\site-packages\\cvxpy\\problems\\problem.py:1061: UserWarning: Solution may be inaccurate. Try another solver, adjusting the solver settings, or solve with verbose=True for more information.\n",
      "  \"Solution may be inaccurate. Try another solver, \"\n",
      "C:\\Users\\Windows\\Anaconda3\\envs\\aps360\\lib\\site-packages\\ipykernel_launcher.py:49: SettingWithCopyWarning: \n",
      "A value is trying to be set on a copy of a slice from a DataFrame.\n",
      "Try using .loc[row_indexer,col_indexer] = value instead\n",
      "\n",
      "See the caveats in the documentation: https://pandas.pydata.org/pandas-docs/stable/user_guide/indexing.html#returning-a-view-versus-a-copy\n"
     ]
    },
    {
     "name": "stdout",
     "output_type": "stream",
     "text": [
      "Unsolvable, use old weights\n",
      "Unsolvable, use old weights\n"
     ]
    },
    {
     "name": "stderr",
     "output_type": "stream",
     "text": [
      "C:\\Users\\Windows\\Anaconda3\\envs\\aps360\\lib\\site-packages\\cvxpy\\problems\\problem.py:1061: UserWarning: Solution may be inaccurate. Try another solver, adjusting the solver settings, or solve with verbose=True for more information.\n",
      "  \"Solution may be inaccurate. Try another solver, \"\n"
     ]
    },
    {
     "data": {
      "text/plain": [
       "array([-2.97512028])"
      ]
     },
     "execution_count": 90,
     "metadata": {},
     "output_type": "execute_result"
    }
   ],
   "source": [
    "##Main\n",
    "\n",
    "#Set up Data\n",
    "price_data = pd.read_csv(\"../Data/sp500df.csv\", index_col='Date')\n",
    "rfr = pd.DataFrame({'risk_free': [0.01]*len(price_data.index)}, index = price_data.index)\n",
    "data_set = Data(price_data, rfr,[i for i in range(20)])\n",
    "data_set.set_factor_returns()\n",
    "\n",
    "#Set Up Portfolio\n",
    "num_stocks=data_set.get_num_stocks()\n",
    "port= Portfolio(data_set)\n",
    "\n",
    "#Set Up model\n",
    "start_date = \"2014-10-31\"\n",
    "end_date = \"2017-11-01\"\n",
    "lookback = 20\n",
    "lookahead = 1\n",
    "lam = 0\n",
    "trans_coeff = 0.1\n",
    "holding_coeff = 0.1\n",
    "conf_level = 0.99\n",
    "\n",
    "# Define constraints to use\n",
    "#constr_list = [ \"asset_limit\"]\n",
    "constr_list = [ \"cardinality\", \"asset_limit_cardinality\"]\n",
    "constr_model = Constraints(constr_list)\n",
    "\n",
    "cost_model = Costs(trans_coeff, holding_coeff)\n",
    "cost_model.replicate_cost_coeff(num_stocks, lookahead)\n",
    "\n",
    "opt_model = Model(lam)\n",
    "risk_model = Risks(\"MVO\", conf_level)\n",
    "\n",
    "regress_weighting = [0,0.5,0.5,0]\n",
    "factor_model = FactorModel(lookahead, lookback, regress_weighting)\n",
    "\n",
    "back_test_ex = Backtest(start_date, end_date, lookback, lookahead)\n",
    "back_test_ex.run(data_set, port, factor_model, opt_model, constr_model, cost_model, risk_model)"
   ]
  },
  {
   "cell_type": "code",
   "execution_count": 93,
   "metadata": {},
   "outputs": [
    {
     "data": {
      "text/plain": [
       "array([ 0.161,  0.23 ,  0.165,  0.3  ,  0.   , -0.189,  0.181, -0.099,\n",
       "        0.141,  0.269,  0.093,  0.138,  0.   ,  0.   , -0.138, -0.231,\n",
       "        0.   ,  0.   ,  0.198, -0.219,  0.   ])"
      ]
     },
     "execution_count": 93,
     "metadata": {},
     "output_type": "execute_result"
    }
   ],
   "source": [
    "port.weights[3].round(3)"
   ]
  },
  {
   "cell_type": "code",
   "execution_count": null,
   "metadata": {},
   "outputs": [],
   "source": [
    "port.plot()"
   ]
  },
  {
   "cell_type": "markdown",
   "metadata": {},
   "source": [
    "## Test\n"
   ]
  },
  {
   "cell_type": "code",
   "execution_count": 89,
   "metadata": {},
   "outputs": [],
   "source": [
    "class Data:\n",
    "    #Anything Data Related\n",
    "    def __init__(self, stock_prices, risk_free, universe=None, period='M'):\n",
    "        #TO-DO: Add initialization of market cap\n",
    "        \n",
    "        if not universe:\n",
    "            universe = stock_prices.columns\n",
    "            \n",
    "        if type(universe[0])== int:\n",
    "            self.stock_prices=stock_prices.iloc[:,universe]\n",
    "\n",
    "        else:\n",
    "            self.stock_prices=stock_prices[universe]\n",
    "        \n",
    "        self.risk_free = risk_free\n",
    "        self.risk_free.index = pd.to_datetime(self.risk_free.index)\n",
    "        self.risk_free = self.risk_free.resample(period).last()\n",
    "        \n",
    "        self.stock_prices.index= pd.to_datetime(self.stock_prices.index)\n",
    "        self.factor_returns=None\n",
    "        self.stock_returns=self.get_stock_returns()\n",
    "        return\n",
    "    \n",
    "    def get_stock_returns(self, period='M'):\n",
    "        price = self.stock_prices.resample(period).last()\n",
    "\n",
    "        # Calculate the percent change\n",
    "        ret_data = price.pct_change()[1:]\n",
    "\n",
    "        # Convert from series to dataframe\n",
    "        ret_data = pd.DataFrame(ret_data)\n",
    "        \n",
    "        return ret_data\n",
    "    \n",
    "    def set_factor_returns(self, factor_type='FF', period='M'):\n",
    "        if factor_type == 'CAPM':\n",
    "            self.factor_returns = self.get_CAPM_returns(period)\n",
    "        \n",
    "        elif factor_type == 'FF':\n",
    "            self.factor_returns = self.get_FF_returns(period)\n",
    "            \n",
    "        elif factor_type == 'Carhart':\n",
    "            self.factor_returns = self.get_Carhart_returns(period)\n",
    "            \n",
    "        elif factor_type == 'PCA':\n",
    "            self.factor_returns = self.get_PCA_returns(period)\n",
    "        \n",
    "        else:\n",
    "            print(\"Invalid input: Please select one of the following factor types: CAPM, FF, Carhart or PCA.\")\n",
    "        \n",
    "        return   \n",
    "    \n",
    "    def get_FF_returns(self, period='M'):\n",
    "        ff_url = \"https://mba.tuck.dartmouth.edu/pages/faculty/ken.french/ftp/F-F_Research_Data_Factors_CSV.zip\"    \n",
    "        # Download the file and save it  \n",
    "        urllib.request.urlretrieve(ff_url,'fama_french.zip')\n",
    "        zip_file = zipfile.ZipFile('fama_french.zip', 'r')    \n",
    "        # Extact the file data\n",
    "        zip_file.extractall()\n",
    "        zip_file.close()    \n",
    "        ff_factors = pd.read_csv('F-F_Research_Data_Factors.csv', skiprows = 3, index_col = 0)   \n",
    "        # Skip null rows\n",
    "        ff_row = ff_factors.isnull().any(1).to_numpy().nonzero()[0][0]\n",
    "\n",
    "        # Read the csv file again with skipped rows\n",
    "        ff_factors = pd.read_csv('F-F_Research_Data_Factors.csv', skiprows = 3, nrows = ff_row, index_col = 0)\n",
    "\n",
    "        # Format the date index\n",
    "        ff_factors.index = pd.to_datetime(ff_factors.index, format= '%Y%m')\n",
    "\n",
    "        # Format dates to end of month\n",
    "        ff_factors.index = ff_factors.index + pd.offsets.MonthEnd()\n",
    "\n",
    "        # Resample the data to correct frequency\n",
    "        ff_factors = ff_factors.resample(period).last()\n",
    "\n",
    "        # Convert from percent to decimal\n",
    "        ff_factors = ff_factors.apply(lambda x: x/ 100)\n",
    "\n",
    "        return ff_factors\n",
    "    \n",
    "    def get_CAPM_returns(self, period='M'):\n",
    "        ff_factors = self.get_FF_returns(period)\n",
    "        \n",
    "        # Remove the unnecessary factors\n",
    "        capm_factors = ff_factors.iloc[:, 0]\n",
    "        \n",
    "        return capm_factors\n",
    "    \n",
    "    def get_Carhart_returns(self, period='M'):\n",
    "        ff_factors = self.get_FF_returns(period)\n",
    "\n",
    "        # Get the momentum factor\n",
    "        momentum_url = \"https://mba.tuck.dartmouth.edu/pages/faculty/ken.french/ftp/F-F_Momentum_Factor_CSV.zip\"\n",
    "\n",
    "        # Download the file and save it  \n",
    "        urllib.request.urlretrieve(momentum_url,'momentum.zip')\n",
    "        zip_file = zipfile.ZipFile('momentum.zip', 'r')\n",
    "\n",
    "        # Extact the file data\n",
    "        zip_file.extractall()\n",
    "        zip_file.close()\n",
    "\n",
    "        momentum_factor = pd.read_csv('F-F_Momentum_Factor.csv', skiprows = 13, index_col = 0)\n",
    "\n",
    "        # Skip null rows\n",
    "        row = momentum_factor.isnull().any(1).to_numpy().nonzero()[0][0]\n",
    "\n",
    "        # Read the csv file again with skipped rows\n",
    "        momentum_factor = pd.read_csv('F-F_Momentum_Factor.csv', skiprows = 13, nrows = row, index_col = 0)\n",
    "\n",
    "        # Format the date index\n",
    "        momentum_factor.index = pd.to_datetime(momentum_factor.index, format= '%Y%m')\n",
    "\n",
    "        # Format dates to end of month\n",
    "        momentum_factor.index = momentum_factor.index + pd.offsets.MonthEnd()\n",
    "\n",
    "         # Resample the data to correct frequency\n",
    "        momentum_factor = momentum_factor.resample(period).last()\n",
    "\n",
    "        # Convert from percent to decimal\n",
    "        momentum_factor = momentum_factor.apply(lambda x: x/ 100)\n",
    "\n",
    "        # Combine to create the carhart_factors\n",
    "        carhart_factors = pd.concat([ff_factors, momentum_factor], axis=1).dropna()\n",
    "\n",
    "        return carhart_factors\n",
    "    \n",
    "    def get_PCA_returns(self, period='M'):\n",
    "        exRets = self.get_stock_returns(period=\"D\")\n",
    "        num_stocks = len(exRets.columns)\n",
    "        returns_mat = exRets.to_numpy()\n",
    "        n_dates = returns_mat.shape[0]\n",
    "        n_assets = returns_mat.shape[1]\n",
    "        \n",
    "        demeaned = (returns_mat - returns_mat.mean(axis=0)).transpose()\n",
    "        sigma = 1/(n_dates - 1)*np.matmul(demeaned,demeaned.transpose())\n",
    "        eigval, eigvec = np.linalg.eig(sigma)\n",
    "        \n",
    "        principal_components = np.matmul(eigvec.transpose(),demeaned).transpose()\n",
    "        pca_factors = np.real(principal_components[:,0:100])\n",
    "        \n",
    "        pca_df = pd.DataFrame(pca_factors, index = exRets.index, columns = [str(i) for i in range(num_stocks)])\n",
    "        pca_df = pca_df.resample(period).last()\n",
    "        \n",
    "        return pca_df\n",
    "    \n",
    "    def get_index_from_date(self, date_index_df, date):\n",
    "        return date_index_df.index.get_loc(date)\n",
    "    \n",
    "    def get_lookback_data(self, date_index_df, date, lookback):\n",
    "        end_idx= self.get_index_from_date(date_index_df, date)\n",
    "        return date_index_df.iloc[end_idx-lookback:end_idx]      \n",
    "    \n",
    "    def get_num_stocks(self):\n",
    "        return len(self.stock_returns.columns)\n",
    "\n",
    "    \n",
    "class Portfolio:\n",
    "    #Anything Portfolio related: weights, returns, date-stamped\n",
    "    def __init__(self, data):       \n",
    "        num_stocks=data.get_num_stocks()\n",
    "        #make weights have row, column\n",
    "        #self.weights= np.expand_dims(np.array([0 for i in range(num_stocks)]),axis=0)\n",
    "        \n",
    "        self.weights= np.array([[0 for i in range(num_stocks)] + [1]]) # 0 weight on stock, 1 in risk-free market\n",
    "\n",
    "        self.returns= np.array([])\n",
    "        self.dates= []\n",
    "   \n",
    "        return\n",
    "        \n",
    "    def update_weights(self, new_weights):\n",
    "        \n",
    "        new_weights=np.expand_dims(new_weights,axis=0)    \n",
    "        self.weights=np.append(self.weights,new_weights,axis=0)\n",
    "        \n",
    "        \n",
    "        return\n",
    "     \n",
    "    def update_returns(self, new_returns):\n",
    "        self.returns=np.append(self.returns, new_returns)\n",
    "        return\n",
    "\n",
    "    def update_dates(self, new_dates):\n",
    "       \n",
    "        self.dates.append(new_dates)\n",
    "        return\n",
    "        \n",
    "    def get_Sharpe(self, data):\n",
    "        risk_free=data.risk_free\n",
    "        recent_date = self.dates[-1]\n",
    "        sigma = np.std(self.returns - np.array(risk_free.loc[self.dates]))\n",
    "        sharpe_ratio = ((np.prod(1+self.returns)-1) - np.array(risk_free.loc[recent_date]))/sigma\n",
    "        return sharpe_ratio\n",
    "        \n",
    "    def plot(self):\n",
    "        port_cumu_returns = np.array([x+1 for x in self.returns]).cumprod()\n",
    "        plt.figure(figsize=(12,6))\n",
    "        plt.plot(self.dates, port_cumu_returns)\n",
    "        plt.xticks(rotation=45)\n",
    "        plt.gca().yaxis.set_major_formatter(mtick.PercentFormatter(1.0))\n",
    "        plt.xlabel(\"Date\")\n",
    "        plt.ylabel(\"Cumulative Return\")\n",
    "        plt.show()\n",
    "    \n",
    "\n",
    "class Constraints:\n",
    "        #List of all constraints\n",
    "        def __init__(self, constr_list=['cardinality','asset_limit_cardinality','no_short'], \n",
    "                     upper_limit=0.3 ,lower_limit=-0.3 ,stock_limit=15):\n",
    "            self.upper_limit = upper_limit\n",
    "            self.lower_limit = lower_limit\n",
    "            self.stock_limit = stock_limit\n",
    "            self.constr_list = constr_list\n",
    "            self.value=[]\n",
    "\n",
    "        \n",
    "        def set_constraints(self, all_weights, y):\n",
    "            # Set weight unity\n",
    "            weights=all_weights[:-1,:]\n",
    "            \n",
    "            self.value += [cp.sum(all_weights,axis=0)==1]\n",
    "            self.value += [all_weights[-1,:]>=0]\n",
    "            \n",
    "            if \"cardinality\" in self.constr_list:\n",
    "                self.value+= [cp.sum(y,axis=0)== self.stock_limit]   \n",
    "                \n",
    "            if \"no_short\" in self.constr_list:\n",
    "                self.value+=  [weights>=0]\n",
    "                \n",
    "            if \"asset_limit_cardinality\" in self.constr_list:\n",
    "                cardinality_upper_limit= cp.multiply(self.upper_limit, y)\n",
    "                cardinality_lower_limit = cp.multiply(self.lower_limit,y)\n",
    "                self.value+=  [weights>=cardinality_lower_limit, weights<=cardinality_upper_limit]\n",
    "\n",
    "            elif \"asset_limit\" in self.constr_list:\n",
    "                self.value+=[weights<=self.upper_limit, weights>=self.lower_limit]\n",
    "        \n",
    "            return\n",
    "\n",
    "\n",
    "class Risks:\n",
    "    def __init__(self, risk_type=\"MVO\", conf_lvl=0):\n",
    "        self.value=0\n",
    "        self.risk_type=risk_type\n",
    "        self.conf_lvl=conf_lvl\n",
    "        return\n",
    "        \n",
    "    def set_risk(self, weights, Q, lookahead):\n",
    "        portfolio_risk=0\n",
    "        robustness_cost=0\n",
    "        num_stocks = weights.shape[1]\n",
    "        \n",
    "        for i in range(lookahead):\n",
    "            portfolio_risk += cp.quad_form(weights[:,i],Q[i])        \n",
    "        self.value = portfolio_risk\n",
    "        \n",
    "        if self.risk_type == \"rect\":\n",
    "            for i in range(lookahead):\n",
    "                delta = stats.norm.ppf(self.conf_lvl)*np.sqrt(np.diag(Q[i]/num_stocks))\n",
    "                robustness_cost += delta@cp.abs(weights[:,i])\n",
    "            self.value += robustness_cost\n",
    "        \n",
    "        elif self.risk_type == \"ellip\":\n",
    "            for i in range(lookahead):\n",
    "         \n",
    "                penalty = cp.norm(np.sqrt(np.diag(Q[i]/num_stocks))@weights[:,i],2)\n",
    "          \n",
    "                robustness_cost += stats.chi2.ppf(self.conf_lvl, num_stocks)*penalty\n",
    "            self.value += robustness_cost\n",
    "            \n",
    "        elif self.risk_type == \"cvar\":\n",
    "            pass\n",
    "        \n",
    "        elif self.risk_type == 'B-L':\n",
    "            self.value = 0\n",
    "            pass\n",
    "        \n",
    "        return\n",
    "    \n",
    "\n",
    "class Costs:\n",
    "    def __init__(self, trans_coeff, holding_coeff):\n",
    "        self.holding_cost = 0\n",
    "        self.trans_cost = 0\n",
    "        self.trans_coeff = trans_coeff\n",
    "        self.holding_coeff = holding_coeff\n",
    "        return\n",
    "        \n",
    "    def replicate_cost_coeff(self, num_stocks, lookahead):\n",
    "        trans_cost_repl = np.ones((num_stocks,lookahead))/100\n",
    "        holding_cost_repl = np.ones((num_stocks, lookahead))/100\n",
    "        self.trans_coeff = trans_cost_repl*self.trans_coeff\n",
    "        self.holding_coeff = holding_cost_repl*self.holding_coeff\n",
    "        return\n",
    "    \n",
    "    def set_holding_cost(self, weights_new):\n",
    "        self.holding_cost += cp.sum(cp.multiply(self.holding_coeff, cp.neg(weights_new)))\n",
    "        return\n",
    "        \n",
    "    def calc_trans_cost(self, weights_new, weights_old, trans_coeff):\n",
    "        abs_trade= cp.abs(weights_new-weights_old)\n",
    "        return cp.sum(cp.multiply(trans_coeff, abs_trade))       \n",
    "    \n",
    "    \n",
    "    def set_trans_cost(self, weights_new,weights_old):\n",
    "        \n",
    "        weights_curr= weights_new[:,0]\n",
    "        if weights_new.shape[1]>1:         \n",
    "            weights_future = weights_new[:,1:]\n",
    "            weights_future_shift = weights_new[:,:-1]\n",
    "            self.trans_cost = self.calc_trans_cost(weights_future, weights_future_shift, self.trans_coeff[:,1:])\n",
    "\n",
    "        self.trans_cost += self.calc_trans_cost(weights_curr, weights_old,self.trans_coeff[:,0])\n",
    "        return\n",
    "\n",
    "    \n",
    "    \n",
    "class Model:\n",
    "    def __init__(self, lam):\n",
    "        self.opt_weights = 0\n",
    "        self.status = None\n",
    "        self.lam = lam\n",
    "\n",
    "        return\n",
    "        \n",
    "    def MVO(self, port, mu , Q, rf, look_ahead, constr_model, cost_model, risk_model):\n",
    "        \n",
    "        mu_np = np.array(mu)\n",
    "        Q_np = np.array(Q)\n",
    "        \n",
    "        num_stocks = port.weights.shape[1]-1\n",
    "        \n",
    "        #Construct optimization problem\n",
    "        all_weights = cp.Variable((num_stocks+1,look_ahead))   \n",
    "        y = cp.Variable((num_stocks,look_ahead), boolean=True)\n",
    "        \n",
    "        weights_prev= port.weights[-1,:-1]   \n",
    "        weights=all_weights[:-1,:]\n",
    "#         print(weights_prev.shape)\n",
    "#         print(weights.shape)\n",
    "        # Set model parameters\n",
    "        cost_model.set_trans_cost(weights, weights_prev)\n",
    "        cost_model.set_holding_cost(weights)    \n",
    "        constr_model.set_constraints(all_weights, y)\n",
    "        risk_model.set_risk(weights, Q,look_ahead)\n",
    "\n",
    "        # Get portfolio return\n",
    "        portfolio_return_per_period = mu_np@weights\n",
    "        #rf_return = cp.sum(rf@rf_weight,)\n",
    "        rf_return = cp.sum(rf*all_weights[-1,:])\n",
    "        portfolio_return = cp.trace(portfolio_return_per_period)+rf_return\n",
    "        \n",
    "        #temp zero\n",
    "#         cost_model.holding_cost=0\n",
    "#         cost_model.trans_cost=0\n",
    "#        objective= cp.Maximize(portfolio_return - self.lam*risk_model.value - cost_model.holding_cost - cost_model.trans_cost)\n",
    "        objective= cp.Minimize(risk_model.value)\n",
    "        constr_model.value+= [portfolio_return>=0.05]\n",
    "        #Construct Problem and Solve\n",
    "        prob= cp.Problem(objective, constr_model.value)\n",
    "        result=prob.solve(solver=\"GUROBI\")\n",
    "        self.status= prob.status\n",
    "        if self.status == \"optimal\":\n",
    "            self.opt_weights=np.array(all_weights.value)[:,0]\n",
    "            print(\"port value period:\", portfolio_return_per_period.value)\n",
    "            print(\"port return:\",portfolio_return.value)\n",
    "            print(\"risk value:\",risk_model.value.value)\n",
    "            print(\"holding cost:\",cost_model.holding_cost.value)\n",
    "            print(\"trans cost:\", cost_model.trans_cost.value)\n",
    "    \n",
    "        else:\n",
    "            print(\"Unsolvable, use old weights\")\n",
    "            self.opt_weights=port.weights[-1].T\n",
    "     \n",
    "        return self.opt_weights\n",
    "        \n",
    "    def BL(self):\n",
    "        return\n",
    "    \n",
    "    \n",
    "class Backtest:\n",
    "    def __init__(self, start_date, end_date, lookback, lookahead):\n",
    "        self.rebal_freq = 'M'\n",
    "        self.start_date = start_date\n",
    "        self.end_date = end_date\n",
    "        self.lookback = lookback\n",
    "        self.lookahead = lookahead\n",
    "        self.reb_dates = None\n",
    "        return\n",
    "        \n",
    "    \n",
    "    def run(self, data, portfolio, factor_model, optimizer, constr_model, cost_model, risk_model):      \n",
    "        stock_return= data.stock_returns      \n",
    "        self.reb_dates= np.array(data.stock_returns.loc[self.start_date:self.end_date].index)    \n",
    "        \n",
    "\n",
    "        for t in self.reb_dates:\n",
    "            mu, Q = factor_model.get_param_estimate(t, data)\n",
    "            new_rf_rate=float(data.risk_free.loc[t])\n",
    "   #         new_rf_weight=1.02\n",
    "            if risk_model.risk_type in ('MVO', 'ellip', 'rect', 'cvar'):\n",
    "                weights = optimizer.MVO(portfolio, mu , Q, new_rf_rate,self.lookahead, constr_model, cost_model, risk_model)     \n",
    "            \n",
    "            elif risk_model.risk_type == 'B-L':\n",
    "                weights = optimizer.BL()\n",
    "            \n",
    "            portfolio.update_dates(t)\n",
    "            portfolio.update_weights(weights)\n",
    "            portfolio.update_returns(np.dot(weights[:-1],stock_return.loc[t])+weights[-1]*new_rf_rate)\n",
    "\n",
    "            ##How the lambdas influence\n",
    "            ##When to use MVO.. when to use CVaR... implement a CVaR\n",
    "\n",
    "        return portfolio.get_Sharpe(data)\n",
    "\n",
    "\n",
    "    def grid_search(self, data, trans_coeff, hold_coeff, lam):\n",
    "\n",
    "        #         # Overall - currently test values are used in the Backtest2 class\n",
    "        #         rebalance_freqs = ['M', '3M', '6M', '12M', '60M'] # Period in Data class\n",
    "        #         pot_lookaheads = [1, 3, 6, 12, 60]\n",
    "        #         pot_lookbacks = [2, 3, 6, 12, 60]\n",
    "\n",
    "        #         # Factor Models\n",
    "        #         factor_models = ['CAPM', 'FF', 'Carhart', 'PCA'] # Data\n",
    "        #         regressions = ['linear', 'lasso', 'ridge', 'SVR'] # FactorModel\n",
    "\n",
    "        #         # Constraints\n",
    "        #         cardinalities = ['', 'cardinality']\n",
    "        #         asset_limits = ['asset_limit_cardinality', 'asset_limit']\n",
    "        #         no_shorts = ['', 'no_short']\n",
    "        #         constraints_list = [weight_unities, cardinalities, asset_limits, no_shorts]\n",
    "\n",
    "        #         stock_limits = list(range(5, 501, 5))\n",
    "\n",
    "        #         # Optimization\n",
    "        #         MVO_robustness = ['', 'rectangular', 'elliptical']\n",
    "\n",
    "        # Overall\n",
    "        pot_lookaheads = [5]\n",
    "        pot_lookbacks = [20]\n",
    "\n",
    "        # Factor Models\n",
    "        factor_models = ['FF', 'PCA']  # Data\n",
    "        #regressions = ['Linear', 'Lasso', 'Ridge', 'SVR'] # FactorModel\n",
    "        regressions = [[1,0,0,0],[0,1,0,0],[0,0,1,0],[0,0,0,1],[0.25,0.25,0.25,0.25],\n",
    "                       [0,0.5,0.5,0],[0,0.25,0.25,0.5],[0,0,0.5,0.5]]\n",
    "\n",
    "        # Constraints\n",
    "        cardinalities = ['cardinality']\n",
    "        asset_limits = ['asset_limit_cardinality', 'asset_limit']\n",
    "        no_shorts = ['no_short']\n",
    "        constraints_list = [weight_unities, cardinalities, asset_limits, no_shorts]\n",
    "\n",
    "        stock_limits = list(range(5, 21, 5))\n",
    "        upper_asset_limits = [1]\n",
    "        lower_asset_limits = [-1]\n",
    "\n",
    "        # Optimization\n",
    "        MVO_robustness = ['ellip']\n",
    "\n",
    "        # list of sharpe ratios per parameter combination\n",
    "        sharpe_ratios = []\n",
    "\n",
    "        # list of parameter combinations corresponding to sharpe ratio\n",
    "        parameter_combos = []\n",
    "\n",
    "        for combo in tqdm(list(itertools.product(factor_models, regressions, \\\n",
    "                                                 list(itertools.product(*constraints_list)), stock_limits, \\\n",
    "                                                 upper_asset_limits, lower_asset_limits, MVO_robustness))):\n",
    "\n",
    "            # Store the combination\n",
    "            curr_combo = {'rebalance_freq': 'M', 'factor_model': combo[0], 'regression': combo[1],\n",
    "                          'constraints_list': list(combo[2]), 'stock_limit': combo[3], 'upper_asset_limit': combo[4],\n",
    "                          'lower_asset_limit': combo[5], 'robustness': combo[6]}\n",
    "\n",
    "            # Initial Setup\n",
    "            data.set_factor_returns(curr_combo['factor_model'], curr_combo['rebalance_freq'])\n",
    "\n",
    "            num_stocks = len(data_set.stock_returns.columns)\n",
    "            cost_model = Costs(trans_coeff, hold_coeff)\n",
    "\n",
    "            initial_weights = [1 / num_stocks for i in range(num_stocks)]\n",
    "            port = Portfolio(initial_weights)\n",
    "\n",
    "            # Get lookaheads that are multiples of the rebalancing frequency and <= 60 months\n",
    "            if curr_combo['rebalance_freq'] == 'M':\n",
    "                first = 1\n",
    "            else:\n",
    "                first = int(curr_combo['rebalance_freq'][0])\n",
    "\n",
    "            lookaheads = list(itertools.compress(pot_lookaheads, [look >= first for look in pot_lookaheads]))\n",
    "            lookbacks = list(itertools.compress(pot_lookbacks, [look >= first for look in pot_lookbacks]))\n",
    "\n",
    "            for lookahead in lookaheads:\n",
    "                curr_combo['lookahead'] = lookahead\n",
    "                for lookback in lookbacks:\n",
    "                    curr_combo['lookback'] = lookback\n",
    "#                     print(curr_combo)\n",
    "\n",
    "                    # Continue Setup\n",
    "                    cost_model.replicate_cost_coeff(num_stocks, lookahead)\n",
    "                    constr_model = Constraints(curr_combo['constraints_list'], curr_combo['upper_asset_limit'], \\\n",
    "                                               curr_combo['lower_asset_limit'], curr_combo['stock_limit'])\n",
    "\n",
    "                    opt_model = Model(lam) \n",
    "                    risk_model = Risks(curr_combo['robustness'], 0.95)\n",
    "\n",
    "                    # Run backtest\n",
    "                    factor = FactorModel(data_set, curr_combo['lookahead'], curr_combo['lookback'],\n",
    "                                         curr_combo['regression'])\n",
    "                    sharpe = self.run(data_set, port, factor, opt_model, constr_model, cost_model,\n",
    "                                      curr_combo['lookahead'], risk_model)\n",
    "\n",
    "                    # Update results\n",
    "                    sharpe_ratios.append(sharpe)\n",
    "                    parameter_combos.append(curr_combo)\n",
    "\n",
    "        return sharpe_ratios, parameter_combos"
   ]
  },
  {
   "cell_type": "code",
   "execution_count": 78,
   "metadata": {},
   "outputs": [],
   "source": [
    "class FactorModel:\n",
    "    def __init__(self, lookahead, lookback, regress_weighting):\n",
    "        \n",
    "        \"\"\"\n",
    "        lookahead: number of periods in the future to estimate\n",
    "        lookback: number of periods in the past to use for estimations\n",
    "        regress_weighting: array of size 4 with weight corresponding to each regression type; adds up to 1; \n",
    "        order is linear, lasso, ridge, SVR; in the case where there is one 1 and the rest 0's, there is no ensembling;\n",
    "        can artifically call LSTM by setting all weights to 0\n",
    "        \"\"\"\n",
    "        self.lookahead = lookahead\n",
    "        self.lookback = lookback\n",
    "        self.regress_weighting = regress_weighting\n",
    "        return\n",
    "               \n",
    "    def get_param_estimate(self, rebal_date, data):\n",
    "               \n",
    "        if sum(self.regress_weighting) == 0:\n",
    "            return self.get_mu_LSTM(rebal_date, data)\n",
    "\n",
    "        elif sum(self.regress_weighting) == 1:\n",
    "            return self.get_mu_Q_regression(rebal_date, data)\n",
    "        \n",
    "        else:\n",
    "            return \"ERROR: This regression weighting is not valid. Please make sure the weights sum to 1. You can also give all zeros for LSTM.\"\n",
    "        \n",
    "    def get_mu_Q_regression(self, rebal_date, data): \n",
    "        returns_data = data.stock_returns\n",
    "        factor_data = data.factor_returns\n",
    "        lookahead = self.lookahead\n",
    "        lookback = self.lookback\n",
    "        regress_weighting = self.regress_weighting\n",
    "                \n",
    "        # For keeping track of mu's and Q's from each period\n",
    "        mu_arr = []\n",
    "        Q_arr = []\n",
    "\n",
    "        n_factors = len(factor_data.columns)\n",
    "\n",
    "        returns_data = data.get_lookback_data(returns_data, rebal_date, lookback)\n",
    "        factor_data = data.get_lookback_data(factor_data, rebal_date, lookback)\n",
    "        \n",
    "        for i in range(0, lookahead):\n",
    "\n",
    "            # Calculate the factor covariance matrix\n",
    "            F = factor_data.loc[:, factor_data.columns != 'Ones'].cov()\n",
    "\n",
    "            # Calculate the factor expected excess return from historical data using the geometric mean\n",
    "            factor_data['Ones'] = [1 for i in range(len(factor_data))]\n",
    "            gmean = stats.gmean(factor_data + 1,axis=0) - 1\n",
    "\n",
    "            # Set up X and Y to determine alpha and beta\n",
    "            X = factor_data\n",
    "            Y = returns_data\n",
    "            X = X.to_numpy()\n",
    "            Y = Y.to_numpy()\n",
    "\n",
    "            \n",
    "            ### LINEAR REGRESSION\n",
    "        \n",
    "            model = LinearRegression().fit(X,Y)\n",
    "            alpha = model.intercept_\n",
    "            beta = model.coef_[:,0:n_factors]\n",
    "\n",
    "            # Calculate the residuals \n",
    "            alpha = np.reshape(alpha,(alpha.size,1))\n",
    "            epsilon = returns_data.to_numpy() - np.matmul(X, np.transpose(np.hstack((beta, alpha))))\n",
    "\n",
    "            # Calculate the residual variance with \"N - p - 1\" degrees of freedom\n",
    "            sigmaEp = np.sum(epsilon**2, axis=0) / (len(returns_data) - n_factors - 1)\n",
    "\n",
    "            #  Calculate the asset expected excess returns\n",
    "            mu_linear = model.predict([gmean])[0]\n",
    "\n",
    "            # Calculate the diagonal matrix of residuals and the asset covariance matrix\n",
    "            D = np.diag(sigmaEp)\n",
    "\n",
    "            # Calculate the covariance matrix\n",
    "            Q_linear = np.matmul(np.matmul(beta,F.to_numpy()),beta.T)+D\n",
    "\n",
    "\n",
    "            ### LASSO REGRESSION\n",
    "\n",
    "            model = Lasso().fit(X,Y)\n",
    "            alpha = model.intercept_\n",
    "            beta = model.coef_[:,0:n_factors]\n",
    "\n",
    "            # Calculate the residuals \n",
    "            alpha = np.reshape(alpha,(alpha.size,1))\n",
    "            epsilon = returns_data.to_numpy() - np.matmul(X, np.transpose(np.hstack((beta, alpha))))\n",
    "\n",
    "            # Calculate the residual variance with \"N - p - 1\" degrees of freedom\n",
    "            sigmaEp = np.sum(epsilon**2, axis=0) / (len(returns_data) - n_factors - 1)\n",
    "\n",
    "            #  Calculate the asset expected excess returns\n",
    "            mu_lasso = model.predict([gmean])[0]\n",
    "\n",
    "            # Calculate the diagonal matrix of residuals and the asset covariance matrix\n",
    "            D = np.diag(sigmaEp)\n",
    "\n",
    "            # Calculate the covariance matrix\n",
    "            Q_lasso = np.matmul(np.matmul(beta,F.to_numpy()),beta.T)+D\n",
    "\n",
    "\n",
    "            ### RIDGE REGRESSION\n",
    "\n",
    "            model = Ridge().fit(X,Y)\n",
    "            alpha = model.intercept_\n",
    "            beta = model.coef_[:,0:n_factors]\n",
    "\n",
    "            # Calculate the residuals \n",
    "            alpha = np.reshape(alpha,(alpha.size,1))\n",
    "            epsilon = returns_data.to_numpy() - np.matmul(X, np.transpose(np.hstack((beta, alpha))))\n",
    "\n",
    "            # Calculate the residual variance with \"N - p - 1\" degrees of freedom\n",
    "            sigmaEp = np.sum(epsilon**2, axis=0) / (len(returns_data) - n_factors - 1)\n",
    "\n",
    "            #  Calculate the asset expected excess returns\n",
    "            mu_ridge = model.predict([gmean])[0]\n",
    "\n",
    "            # Calculate the diagonal matrix of residuals and the asset covariance matrix\n",
    "            D = np.diag(sigmaEp)\n",
    "\n",
    "            # Calculate the covariance matrix\n",
    "            Q_ridge = np.matmul(np.matmul(beta,F.to_numpy()),beta.T)+D\n",
    "\n",
    "\n",
    "            ### SUPPORT VECTOR REGRESSION\n",
    "\n",
    "            model = make_pipeline(StandardScaler(), MultiOutputRegressor(LinearSVR(C=1, dual=False, loss=\"squared_epsilon_insensitive\"))).fit(X, Y)\n",
    "            beta = np.array([[model.named_steps['multioutputregressor'].estimators_[i].coef_[0:n_factors] for i in range(len(model.named_steps['multioutputregressor'].estimators_))]])[0]\n",
    "            alpha = np.array([model.named_steps['multioutputregressor'].estimators_[i].intercept_[0] for i in range(len(model.named_steps['multioutputregressor'].estimators_))])\n",
    "\n",
    "            # Calculate the residuals \n",
    "            alpha = np.reshape(alpha,(alpha.size,1))\n",
    "            epsilon = returns_data.to_numpy() - np.matmul(X, np.transpose(np.hstack((beta, alpha))))\n",
    "\n",
    "            # Calculate the residual variance with \"N - p - 1\" degrees of freedom\n",
    "            sigmaEp = np.sum(epsilon**2, axis=0) / (len(returns_data) - n_factors - 1)\n",
    "\n",
    "            #  Calculate the asset expected excess returns\n",
    "            mu_SVR = model.predict([gmean])[0]\n",
    "\n",
    "            # Calculate the diagonal matrix of residuals and the asset covariance matrix\n",
    "            D = np.diag(sigmaEp)\n",
    "\n",
    "            # Calculate the covariance matrix\n",
    "            Q_SVR = np.matmul(np.matmul(beta,F.to_numpy()),beta.T)+D\n",
    "\n",
    "        \n",
    "            # Ensemble the methods\n",
    "            mu = regress_weighting[0]*mu_linear + regress_weighting[1]*mu_lasso + regress_weighting[2]*mu_ridge + regress_weighting[3]*mu_SVR\n",
    "            Q = regress_weighting[0]*Q_linear + regress_weighting[1]*Q_lasso + regress_weighting[2]*Q_ridge + regress_weighting[3]*Q_SVR\n",
    "\n",
    "            # Add mu and Q to array\n",
    "            mu_arr.append(mu)\n",
    "            Q_arr.append(Q)\n",
    "\n",
    "            # Update for next time step\n",
    "            factor_data = factor_data[1:]\n",
    "            factor_append = pd.Series(gmean, index = factor_data.columns)\n",
    "            factor_data = factor_data.append(factor_append, ignore_index=True)\n",
    "\n",
    "            returns_data = returns_data[1:]\n",
    "            mu_append = pd.Series(mu, index=returns_data.columns)\n",
    "            returns_data = returns_data.append(mu_append, ignore_index=True)   \n",
    "\n",
    "        return mu_arr, Q_arr\n",
    "        \n",
    "    def get_mu_LSTM(self, rebal_date, data): \n",
    "        returns_data = data.stock_returns\n",
    "        factor_data = data.factor_returns\n",
    "        \n",
    "        lookahead = self.lookahead\n",
    "        lookback = self.lookback\n",
    "        regress_weighting = self.regress_weighting\n",
    "\n",
    "        returns_data = data.get_lookback_data(returns_data, rebal_date, lookback)\n",
    "        factor_data = data.get_lookback_data(factor_data, rebal_date, lookback)\n",
    "        \n",
    "        tempx, tempy = self.generate_X_y(factor_data.values, returns_data.values, lookback, lookahead)\n",
    "        train_x, test_x, train_y, test_y = self.traintest_split(tempx, tempy)\n",
    "\n",
    "        # scale inputs\n",
    "        scaled_train_x = (train_x - train_x.min())/(train_x.max() - train_x.min())\n",
    "        scaled_test_x = (test_x - test_x.min())/(test_x.max() - test_x.min())\n",
    "        scaled_train_y = (train_y - train_y.min())/(train_y.max() - train_y.min())\n",
    "        scaled_test_y = (test_y - test_y.min())/(test_y.max() - test_y.min())\n",
    "\n",
    "        mu = self.get_prediction(train_x, train_y, factor_data, lookback)\n",
    "        return mu\n",
    "    \n",
    "    def generate_X_y(self, factor_data, returns_data, n_lookback, n_lookforward):\n",
    "        X, y = list(), list()\n",
    "        in_start = 0\n",
    "        for i in range(len(factor_data)):\n",
    "            in_end = in_start + n_lookback\n",
    "            out_end = in_end + n_lookforward\n",
    "            # ensure we have enough data for this instance\n",
    "            if out_end <= len(factor_data):\n",
    "                X.append(factor_data[in_start:in_end,:])\n",
    "                y.append(returns_data[in_end:out_end,:])\n",
    "            in_start += 1\n",
    "        return np.array(X), np.array(y)\n",
    "    \n",
    "    def traintest_split(self, X, y):\n",
    "        X_train, X_test, y_train, y_test = train_test_split(X, y, test_size=0.2, random_state=42)\n",
    "        return X_train, X_test, y_train, y_test   \n",
    "    \n",
    "    def build_model(self, train_x, train_y):\n",
    "        # define parameters\n",
    "        verbose, epochs, batch_size = 0, 50, 16\n",
    "        n_timesteps, n_features, n_outputs = train_x.shape[1], train_x.shape[2], train_y.shape[1]\n",
    "\n",
    "        # define model\n",
    "        model = Sequential()\n",
    "        model.add(LSTM(200, activation='relu', input_shape=(n_timesteps, n_features)))\n",
    "        model.add(RepeatVector(n_outputs))\n",
    "        model.add(LSTM(200, activation='relu', return_sequences=True))\n",
    "        model.add(TimeDistributed(Dense(100, activation='relu')))\n",
    "        model.add(TimeDistributed(Dense(train_y.shape[2])))\n",
    "        model.compile(loss='mse', optimizer='adam')\n",
    "        # fit network\n",
    "        model.fit(train_x, train_y, epochs=epochs, batch_size=batch_size, verbose=verbose)\n",
    "        return model\n",
    "    \n",
    "    def forecast(self, model, history, n_lookback):\n",
    "        # flatten data\n",
    "        data = np.array(history)\n",
    "        data = data.reshape((data.shape[0]*data.shape[1], data.shape[2]))\n",
    "        # retrieve last observations for lookback data\n",
    "        input_x = data[-n_lookback:, :]\n",
    "        # reshape into [1, n_lookback, n]\n",
    "        input_x = input_x.reshape((1, input_x.shape[0], input_x.shape[1]))\n",
    "        # forecast the next set\n",
    "        yhat = model.predict(input_x, verbose=0)\n",
    "        # we only want the vector forecast\n",
    "        yhat = yhat[0]\n",
    "        return yhat\n",
    "\n",
    "    def evaluate_forecasts(self, actual, predicted):\n",
    "        # calculate overall RMSE\n",
    "        s = 0\n",
    "        for row in range(actual.shape[0]):\n",
    "            for col in range(actual.shape[1]):\n",
    "                for k in range(actual.shape[2]):\n",
    "                    s += (actual[row, col, k] - predicted[row, col, k])**2\n",
    "        score = sqrt(s / (actual.shape[0] * actual.shape[1] * actual.shape[2]))\n",
    "        return score\n",
    "\n",
    "    def evaluate_model(self, train_x, train_y, test_x, test_y, n_lookback):\n",
    "        # fit model\n",
    "        model = self.build_model(train_x, train_y)\n",
    "        history = [x for x in train_x]\n",
    "        # walk-forward validation \n",
    "        predictions = list()\n",
    "        for i in range(len(test_x)):\n",
    "            yhat_sequence = self.forecast(model, history, n_lookback)\n",
    "            # store the predictions\n",
    "            predictions.append(yhat_sequence)\n",
    "            # get real observation and add to history for predicting the next set\n",
    "            history.append(test_x[i, :])\n",
    "        # evaluate predictions \n",
    "        predictions = np.array(predictions)\n",
    "        score = self.evaluate_forecasts(test_y, predictions)\n",
    "        plt.plot(model.history.history['loss'])\n",
    "        #plt.plot(model.history.history['val_loss'])\n",
    "        return score\n",
    "    \n",
    "    def get_prediction(self, train_x, train_y, factor_data, lookback):\n",
    "        model = self.build_model(train_x, train_y)\n",
    "        return self.forecast(model, factor_data.tail(lookback), lookback)\n"
   ]
  },
  {
   "cell_type": "code",
   "execution_count": 6,
   "metadata": {},
   "outputs": [
    {
     "data": {
      "image/png": "[encoded data removed]",
      "text/plain": [
       "<Figure size 864x432 with 1 Axes>"
      ]
     },
     "metadata": {
      "needs_background": "light"
     },
     "output_type": "display_data"
    }
   ],
   "source": [
    "port.plot()"
   ]
  },
  {
   "cell_type": "code",
   "execution_count": 7,
   "metadata": {
    "scrolled": false
   },
   "outputs": [
    {
     "ename": "TypeError",
     "evalue": "__init__() takes 5 positional arguments but 6 were given",
     "output_type": "error",
     "traceback": [
      "\u001b[1;31m---------------------------------------------------------------------------\u001b[0m",
      "\u001b[1;31mTypeError\u001b[0m                                 Traceback (most recent call last)",
      "\u001b[1;32m<ipython-input-7-6c37bde34895>\u001b[0m in \u001b[0;36m<module>\u001b[1;34m\u001b[0m\n\u001b[0;32m      8\u001b[0m \u001b[0mholding_coeff\u001b[0m\u001b[1;33m=\u001b[0m\u001b[1;36m0.2\u001b[0m\u001b[1;33m\u001b[0m\u001b[1;33m\u001b[0m\u001b[0m\n\u001b[0;32m      9\u001b[0m \u001b[1;33m\u001b[0m\u001b[0m\n\u001b[1;32m---> 10\u001b[1;33m \u001b[0mtest\u001b[0m \u001b[1;33m=\u001b[0m \u001b[0mBacktest\u001b[0m\u001b[1;33m(\u001b[0m\u001b[0mrebal_freq\u001b[0m\u001b[1;33m,\u001b[0m \u001b[0mstart_date\u001b[0m\u001b[1;33m,\u001b[0m \u001b[0mend_date\u001b[0m\u001b[1;33m,\u001b[0m \u001b[0mlookback\u001b[0m\u001b[1;33m,\u001b[0m \u001b[0mlookahead\u001b[0m\u001b[1;33m)\u001b[0m\u001b[1;33m\u001b[0m\u001b[1;33m\u001b[0m\u001b[0m\n\u001b[0m\u001b[0;32m     11\u001b[0m \u001b[0mtest\u001b[0m\u001b[1;33m.\u001b[0m\u001b[0mgrid_search\u001b[0m\u001b[1;33m(\u001b[0m\u001b[0mprice_data\u001b[0m\u001b[1;33m,\u001b[0m\u001b[1;33m[\u001b[0m\u001b[0mi\u001b[0m \u001b[1;32mfor\u001b[0m \u001b[0mi\u001b[0m \u001b[1;32min\u001b[0m \u001b[0mrange\u001b[0m\u001b[1;33m(\u001b[0m\u001b[1;36m20\u001b[0m\u001b[1;33m)\u001b[0m\u001b[1;33m]\u001b[0m\u001b[1;33m,\u001b[0m \u001b[0mtrans_coeff\u001b[0m\u001b[1;33m,\u001b[0m \u001b[0mholding_coeff\u001b[0m\u001b[1;33m,\u001b[0m \u001b[0mlam\u001b[0m\u001b[1;33m)\u001b[0m\u001b[1;33m\u001b[0m\u001b[1;33m\u001b[0m\u001b[0m\n",
      "\u001b[1;31mTypeError\u001b[0m: __init__() takes 5 positional arguments but 6 were given"
     ]
    }
   ],
   "source": [
    "rebal_freq=\"M\"\n",
    "start_date= \"2014-10-31\"\n",
    "end_date= \"2017-11-01\"\n",
    "lookback=20\n",
    "lookahead=5\n",
    "lam=0.9\n",
    "trans_coeff=0.2\n",
    "holding_coeff=0.2\n",
    "\n",
    "test = Backtest(rebal_freq, start_date, end_date, lookback, lookahead)\n",
    "test.grid_search(price_data,[i for i in range(20)], trans_coeff, holding_coeff, lam)"
   ]
  },
  {
   "cell_type": "code",
   "execution_count": 8,
   "metadata": {},
   "outputs": [
    {
     "name": "stdout",
     "output_type": "stream",
     "text": [
      "2010-12-31 00:00:00\n"
     ]
    }
   ],
   "source": [
    "a=data_set.stock_returns.index[0]\n",
    "print(a)"
   ]
  },
  {
   "cell_type": "code",
   "execution_count": 9,
   "metadata": {},
   "outputs": [],
   "source": [
    "    \n",
    "    class Regime:\n",
    "        def __init__(self, data ,t):\n",
    "            train_data=None\n",
    "            train_dates=None\n",
    "            self.get_train_data(data,t)\n",
    "            \n",
    "        def get_train_data(self, data, t):\n",
    "            mkt_data = data.factor_returns[\"Mkt-RF\"]+data_set.factor_returns[\"RF\"]\n",
    "            first_date=\"2019-01-01\"\n",
    "            mkt_returns=mkt_data[first_date:t]\n",
    "            self.train_dates=mkt_returns.index\n",
    "            \n",
    "            mkt_returns=np.array(mkt_returns.values)\n",
    "            mkt_prices = 100*(np.array([x+1 for x in mkt_returns]).cumprod())\n",
    "            mkt_prices=np.expand_dims(mkt_prices,axis=1)\n",
    "            self.train_data= mkt_prices\n",
    "            \n",
    "            \n",
    "        def HMM (self, num_hs):\n",
    "            model=hmm.GaussianHMM(n_components=num_hs)\n",
    "            model.fit(self.train_data)\n",
    "            return model\n",
    "            "
   ]
  },
  {
   "cell_type": "code",
   "execution_count": 294,
   "metadata": {},
   "outputs": [],
   "source": [
    "t=\"2019-12-31\"\n",
    "reg=Regime(data_set,t)\n",
    "reg_model =reg.HMM(2)"
   ]
  },
  {
   "cell_type": "code",
   "execution_count": 295,
   "metadata": {},
   "outputs": [
    {
     "data": {
      "text/plain": [
       "array([[122.08735281],\n",
       "       [113.57296098]])"
      ]
     },
     "execution_count": 295,
     "metadata": {},
     "output_type": "execute_result"
    }
   ],
   "source": [
    "reg_model.means_"
   ]
  },
  {
   "cell_type": "code",
   "execution_count": 296,
   "metadata": {},
   "outputs": [],
   "source": [
    "out=reg_model.predict(reg.train_data)"
   ]
  },
  {
   "cell_type": "code",
   "execution_count": 297,
   "metadata": {},
   "outputs": [],
   "source": [
    "test=np.array(list(map(bool,out)))"
   ]
  },
  {
   "cell_type": "code",
   "execution_count": 298,
   "metadata": {},
   "outputs": [
    {
     "data": {
      "text/plain": [
       "array([[122.08735281],\n",
       "       [113.57296098]])"
      ]
     },
     "execution_count": 298,
     "metadata": {},
     "output_type": "execute_result"
    }
   ],
   "source": [
    "reg_model.means_"
   ]
  },
  {
   "cell_type": "code",
   "execution_count": 299,
   "metadata": {},
   "outputs": [
    {
     "data": {
      "text/plain": [
       "Text(0, 0.5, 'Cumulative Return')"
      ]
     },
     "execution_count": 299,
     "metadata": {},
     "output_type": "execute_result"
    },
    {
     "data": {
      "image/png": "[encoded data removed]",
      "text/plain": [
       "<Figure size 864x432 with 1 Axes>"
      ]
     },
     "metadata": {
      "needs_background": "light"
     },
     "output_type": "display_data"
    }
   ],
   "source": [
    "\n",
    "\n",
    "        plt.figure(figsize=(12,6))\n",
    "        plt.scatter(reg.train_dates[test],reg.train_data[test])\n",
    "        plt.scatter(reg.train_dates[~test],reg.train_data[~test])\n",
    "\n",
    "        plt.xticks(rotation=45)\n",
    "        #plt.gca().yaxis.set_major_formatter(mtick.PercentFormatter(1.0))\n",
    "        plt.xlabel(\"Date\")\n",
    "        plt.ylabel(\"Cumulative Return\")\n",
    "        "
   ]
  },
  {
   "cell_type": "code",
   "execution_count": 292,
   "metadata": {},
   "outputs": [
    {
     "data": {
      "text/plain": [
       "<matplotlib.collections.PathCollection at 0x23557151320>"
      ]
     },
     "execution_count": 292,
     "metadata": {},
     "output_type": "execute_result"
    },
    {
     "data": {
      "image/png": "[encoded data removed]",
      "text/plain": [
       "<Figure size 432x288 with 1 Axes>"
      ]
     },
     "metadata": {
      "needs_background": "light"
     },
     "output_type": "display_data"
    }
   ],
   "source": [
    "plt.scatter(reg.train_dates[~test],reg.train_data[~test])"
   ]
  },
  {
   "cell_type": "code",
   "execution_count": 281,
   "metadata": {},
   "outputs": [
    {
     "data": {
      "text/plain": [
       "DatetimeIndex(['2008-01-31', '2008-02-29', '2008-03-31', '2008-04-30',\n",
       "               '2008-05-31', '2008-06-30', '2008-07-31', '2008-08-31',\n",
       "               '2008-09-30', '2008-10-31', '2008-11-30', '2008-12-31',\n",
       "               '2009-01-31', '2009-02-28', '2009-03-31', '2009-04-30',\n",
       "               '2009-05-31', '2009-06-30', '2009-07-31', '2009-08-31',\n",
       "               '2009-09-30', '2009-10-31', '2009-11-30', '2009-12-31',\n",
       "               '2010-01-31', '2010-02-28', '2010-03-31', '2010-04-30',\n",
       "               '2010-05-31', '2010-06-30', '2010-07-31', '2010-08-31',\n",
       "               '2010-09-30', '2010-10-31', '2010-11-30', '2010-12-31',\n",
       "               '2011-01-31', '2011-02-28', '2011-03-31', '2011-04-30',\n",
       "               '2011-05-31', '2011-06-30', '2011-07-31', '2011-08-31',\n",
       "               '2011-09-30', '2011-10-31', '2011-11-30', '2011-12-31',\n",
       "               '2012-01-31', '2012-02-29', '2012-03-31', '2012-04-30',\n",
       "               '2012-05-31', '2012-06-30', '2012-07-31', '2012-08-31',\n",
       "               '2012-09-30', '2012-10-31', '2012-11-30', '2012-12-31',\n",
       "               '2013-01-31', '2013-02-28', '2013-03-31', '2013-04-30'],\n",
       "              dtype='datetime64[ns]', freq='M')"
      ]
     },
     "execution_count": 281,
     "metadata": {},
     "output_type": "execute_result"
    }
   ],
   "source": [
    "reg.train_dates[test]"
   ]
  },
  {
   "cell_type": "code",
   "execution_count": null,
   "metadata": {},
   "outputs": [],
   "source": []
  },
  {
   "cell_type": "code",
   "execution_count": null,
   "metadata": {},
   "outputs": [],
   "source": []
  }
 ],
 "metadata": {
  "kernelspec": {
   "display_name": "Python 3",
   "language": "python",
   "name": "python3"
  },
  "language_info": {
   "codemirror_mode": {
    "name": "ipython",
    "version": 3
   },
   "file_extension": ".py",
   "mimetype": "text/x-python",
   "name": "python",
   "nbconvert_exporter": "python",
   "pygments_lexer": "ipython3",
   "version": "3.6.10"
  }
 },
 "nbformat": 4,
 "nbformat_minor": 4
}
