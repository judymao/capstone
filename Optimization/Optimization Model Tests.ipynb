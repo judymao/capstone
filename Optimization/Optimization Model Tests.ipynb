{
 "cells": [
  {
   "cell_type": "code",
   "execution_count": 18,
   "metadata": {},
   "outputs": [
    {
     "name": "stdout",
     "output_type": "stream",
     "text": [
      "[-1.79109255e-19  2.85112420e-02  2.79973443e-19  3.37658729e-20\n",
      " -2.72802663e-19  1.49285011e-01 -9.94082533e-20  8.35373900e-20\n",
      "  2.46718649e-01  5.78224144e-01 -4.03739463e-19  1.01242860e-03\n",
      " -9.28486180e-20  2.26767464e-01 -1.58813678e-19 -8.97232272e-20\n",
      " -1.22145729e-19 -1.51509428e-19  1.12060672e-19 -3.48318635e-19]\n"
     ]
    },
    {
     "name": "stderr",
     "output_type": "stream",
     "text": [
      "C:\\Users\\Windows\\Anaconda3\\envs\\cvxpy\\lib\\site-packages\\ipykernel\\ipkernel.py:287: DeprecationWarning: `should_run_async` will not call `transform_cell` automatically in the future. Please pass the result to `transformed_cell` argument and any exception that happen during thetransform in `preprocessing_exc_tuple` in IPython 7.17 and above.\n",
      "  and should_run_async(code)\n",
      "C:\\Users\\Windows\\Anaconda3\\envs\\cvxpy\\lib\\site-packages\\cvxpy\\expressions\\expression.py:550: UserWarning: \n",
      "This use of ``*`` has resulted in matrix multiplication.\n",
      "Using ``*`` for matrix multiplication has been deprecated since CVXPY 1.1.\n",
      "    Use ``*`` for matrix-scalar and vector-scalar multiplication.\n",
      "    Use ``@`` for matrix-matrix and matrix-vector multiplication.\n",
      "    Use ``multiply`` for elementwise multiplication.\n",
      "\n",
      "  warnings.warn(__STAR_MATMUL_WARNING__, UserWarning)\n"
     ]
    }
   ],
   "source": [
    "#Sample code\n",
    "\n",
    "import cvxpy as cp\n",
    "import numpy as np\n",
    "\n",
    "m=30\n",
    "n=20\n",
    "np.random.seed(1)\n",
    "\n",
    "#create ax<=b?\n",
    "A= np.random.randn(m,n)\n",
    "b=np.random.randn(m)\n",
    "\n",
    "x=cp.Variable(n)\n",
    "objective= cp.Minimize(cp.sum_squares(A*x-b))\n",
    "constraints= [0<=x, x<=1]\n",
    "prob= cp.Problem(objective, constraints)\n",
    "\n",
    "result=prob.solve()\n",
    "print(x.value)\n"
   ]
  },
  {
   "cell_type": "code",
   "execution_count": null,
   "metadata": {},
   "outputs": [],
   "source": [
    "# Code Structure\n",
    "\n",
    "#Data Class\n",
    "    #Pulls data that we need (arguments: stock tickers, start date, end_date, frequency; outputs pandas DF w/ closing prices)\n",
    "\n",
    "#Parameter Estimation Class\n",
    "\n",
    "    ##Averaging Methods (arguments: time, x- day history; retrieves historic data from Data Class, uses averaging and covariance)\n",
    "\n",
    "    ##Factor Model Methods:\n",
    "        #Regression function, pass in different factors to the same function for Fama French and other factor models\n",
    "        \n",
    "        #Call the Averaging Methods on the factors (expectation, covariance factors)\n",
    "        \n",
    "        #Return and Covariance Function (takes in the factor loadings and factor statistics;returns asset returns and covariance)\n",
    "        #Question at time t, how we do we estimate returns at t+1, t+2... doesn't make sense to Monte Carlo \n",
    "        \n",
    "        #(assumes static returns with some noise, but we want EXPECTED returns not returns+noise).. Perhaps some predictive modelling?\n",
    "        #assume static covariance of assets in multiperiod model.. is this a reasonable assumption?\n",
    "\n",
    "#Optimization Model Class\n",
    "    #Takes in risk model, constraint, cost model object, returns optimal set of weights\n",
    "\n",
    "#Risk Models Class (base)\n",
    "\n",
    "    ##Variance xTQx (Implement first as baseline, inherits from Risk Model Class)\n",
    "    \n",
    "    ##Robustness (Inherits from Variance? Just adding delta)\n",
    "    \n",
    "    ##CVaR (need to use another optimization model for this).. At each time t, simulate 5000 return paths of length H per asset\n",
    "    \n",
    "#Constraint Class\n",
    "    ##Constaints static methods that just returns the appropriate constraint\n",
    "\n",
    "#Transaction Models Class:\n",
    "    ##For now just a simple method that takes in paramaters bid ask spread, asset volatlity, volume traded, returns a cost\n",
    "    \n",
    "#Holding Models Class\n",
    "    ##For now just a simple method that takes fees for short position, returns holdings\n",
    "\n",
    "#Benchmark Class:\n",
    "    ##Variety of Functions that returns a set of weights at each time step\n",
    "    \n",
    "    ##Stock Indices -- How would I find the weights of S&P over time for example, can just pull from a site?\n",
    "    \n",
    "    #Risk Parity -- Find portfolio with equal risk attribution\n",
    "    \n",
    "    ##Problem with stock indices, risk parity, if i want to optimize with active risk, do I need to predict\n",
    "    \n",
    "    ##Risk free, weight of cash component is always 1\n",
    "    \n",
    "    #equal weight.. static distribution of weights    \n",
    "    \n",
    "\n",
    "#Performance Metrics Class\n",
    "    ##Average Return Method (pass in array of returns, return average)\n",
    "    ##Realized Volatility Method (pass in array of returns, find volatility)\n",
    "    ##Information Ratio Method (pass in Returns, Volatiliy, returns IR)\n",
    "    \n",
    "\n",
    "#Backtesting Class\n",
    "    ##Simulate method (give start date, end date, rebalance frequency, lookahead period H):\n",
    "        ###Loop from start date to end date, step size rebalance frequency\n",
    "            ####At each step use solver, \n"
   ]
  },
  {
   "cell_type": "code",
   "execution_count": 2,
   "metadata": {},
   "outputs": [],
   "source": [
    "#Imported Libraries\n",
    "import cvxpy as cp\n",
    "import numpy as np\n",
    "from sklearn import datasets\n",
    "from scipy import random, linalg"
   ]
  },
  {
   "cell_type": "code",
   "execution_count": 3,
   "metadata": {},
   "outputs": [],
   "source": [
    "#now create a simple single period MVO\n",
    "\n",
    "#Assume universe 3 stocks\n",
    "num_stocks=3\n",
    "\n",
    "#Need 3x1 vector r of expected returns, need covariance matrix Q (randomly initiate for now)\n",
    "np.random.seed(1)\n",
    "r= np.random.randn(num_stocks)/10\n",
    "Q= datasets.make_spd_matrix(num_stocks)\n",
    "\n",
    "\n",
    "#Construct optimization problem\n",
    "x=cp.Variable(num_stocks)\n",
    "lam=0.1\n",
    "portfolio_return= r.transpose()@x\n",
    "portfolio_risk = cp.quad_form(x,Q)\n",
    "objective= cp.Maximize(portfolio_return - lam*portfolio_risk)\n",
    "\n",
    "#Set Constraints\n",
    "constraints=[cp.sum(x)==1]\n",
    "\n",
    "#Construct Problem and Solve\n",
    "prob= cp.Problem(objective, constraints)\n",
    "result=prob.solve()\n"
   ]
  },
  {
   "cell_type": "code",
   "execution_count": 4,
   "metadata": {},
   "outputs": [
    {
     "name": "stdout",
     "output_type": "stream",
     "text": [
      "0.48634677108640123\n",
      "[ 4.6597536  -2.21625584 -1.44349776]\n"
     ]
    }
   ],
   "source": [
    "print(result)\n",
    "print(x.value)"
   ]
  },
  {
   "cell_type": "code",
   "execution_count": 10,
   "metadata": {},
   "outputs": [
    {
     "ename": "TypeError",
     "evalue": "Variable name 5 must be a string.",
     "output_type": "error",
     "traceback": [
      "\u001b[1;31m---------------------------------------------------------------------------\u001b[0m",
      "\u001b[1;31mTypeError\u001b[0m                                 Traceback (most recent call last)",
      "\u001b[1;32m<ipython-input-10-694eefe982ee>\u001b[0m in \u001b[0;36m<module>\u001b[1;34m\u001b[0m\n\u001b[0;32m     12\u001b[0m \u001b[1;33m\u001b[0m\u001b[0m\n\u001b[0;32m     13\u001b[0m \u001b[1;31m#Construct optimization problem\u001b[0m\u001b[1;33m\u001b[0m\u001b[1;33m\u001b[0m\u001b[1;33m\u001b[0m\u001b[0m\n\u001b[1;32m---> 14\u001b[1;33m \u001b[0mx\u001b[0m\u001b[1;33m=\u001b[0m\u001b[0mcp\u001b[0m\u001b[1;33m.\u001b[0m\u001b[0mVariable\u001b[0m\u001b[1;33m(\u001b[0m\u001b[0mnum_stocks\u001b[0m\u001b[1;33m,\u001b[0m\u001b[0mlook_ahead\u001b[0m\u001b[1;33m)\u001b[0m\u001b[1;33m\u001b[0m\u001b[1;33m\u001b[0m\u001b[0m\n\u001b[0m\u001b[0;32m     15\u001b[0m \u001b[0mlam\u001b[0m\u001b[1;33m=\u001b[0m\u001b[1;36m0.1\u001b[0m\u001b[1;33m\u001b[0m\u001b[1;33m\u001b[0m\u001b[0m\n\u001b[0;32m     16\u001b[0m \u001b[0mportfolio_return_per_period\u001b[0m\u001b[1;33m=\u001b[0m \u001b[0mr\u001b[0m\u001b[1;33m.\u001b[0m\u001b[0mtranspose\u001b[0m\u001b[1;33m(\u001b[0m\u001b[1;33m)\u001b[0m\u001b[1;33m@\u001b[0m\u001b[0mx\u001b[0m\u001b[1;33m\u001b[0m\u001b[1;33m\u001b[0m\u001b[0m\n",
      "\u001b[1;32m~\\Anaconda3\\envs\\cvxpy\\lib\\site-packages\\cvxpy\\expressions\\variable.py\u001b[0m in \u001b[0;36m__init__\u001b[1;34m(self, shape, name, var_id, **kwargs)\u001b[0m\n\u001b[0;32m     73\u001b[0m             \u001b[0mself\u001b[0m\u001b[1;33m.\u001b[0m\u001b[0m_name\u001b[0m \u001b[1;33m=\u001b[0m \u001b[0mname\u001b[0m\u001b[1;33m\u001b[0m\u001b[1;33m\u001b[0m\u001b[0m\n\u001b[0;32m     74\u001b[0m         \u001b[1;32melse\u001b[0m\u001b[1;33m:\u001b[0m\u001b[1;33m\u001b[0m\u001b[1;33m\u001b[0m\u001b[0m\n\u001b[1;32m---> 75\u001b[1;33m             \u001b[1;32mraise\u001b[0m \u001b[0mTypeError\u001b[0m\u001b[1;33m(\u001b[0m\u001b[1;34m\"Variable name %s must be a string.\"\u001b[0m \u001b[1;33m%\u001b[0m \u001b[0mname\u001b[0m\u001b[1;33m)\u001b[0m\u001b[1;33m\u001b[0m\u001b[1;33m\u001b[0m\u001b[0m\n\u001b[0m\u001b[0;32m     76\u001b[0m \u001b[1;33m\u001b[0m\u001b[0m\n\u001b[0;32m     77\u001b[0m         \u001b[0mself\u001b[0m\u001b[1;33m.\u001b[0m\u001b[0m_variable_with_attributes\u001b[0m \u001b[1;33m=\u001b[0m \u001b[1;32mNone\u001b[0m\u001b[1;33m\u001b[0m\u001b[1;33m\u001b[0m\u001b[0m\n",
      "\u001b[1;31mTypeError\u001b[0m: Variable name 5 must be a string."
     ]
    }
   ],
   "source": [
    "#create a simple multi period MVO, 5 step lookahead\n",
    "look_ahead=5\n",
    "\n",
    "#Assume universe 3 stocks\n",
    "num_stocks=3\n",
    "\n",
    "#Need 3x5 vector r of expected returns, need 5 covariance matrix Q (randomly initiate for now)\n",
    "np.random.seed(1)\n",
    "r= np.random.randn(num_stocks,look_ahead)/10\n",
    "Q= [datasets.make_spd_matrix(num_stocks) for _ in range(look_ahead)]\n",
    "\n",
    "\n",
    "#Construct optimization problem\n",
    "x=cp.Variable(num_stocks,look_ahead)\n",
    "lam=0.1\n",
    "portfolio_return_per_period= r.transpose()@x\n",
    "portfolio_return= cp.sum(portfolio_return_per_period)\n",
    "\n",
    "portfolio_risk=0\n",
    "for i in range(look_ahead):\n",
    "    portfolio_risk+=cp.quad_form(x[:,i],Q[i])\n",
    "    \n",
    "\n",
    "objective= cp.Maximize(portfolio_return - lam*portfolio_risk)\n",
    "\n",
    "#Set Constraints\n",
    "constraints=[cp.sum(x)==1]\n",
    "\n",
    "#Construct Problem and Solve\n",
    "prob= cp.Problem(objective, constraints)\n",
    "result=prob.solve()\n",
    "\n",
    "\n"
   ]
  },
  {
   "cell_type": "code",
   "execution_count": 24,
   "metadata": {},
   "outputs": [],
   "source": [
    "look_ahead=5\n",
    "num_stocks=3\n",
    "x=cp.Variable((num_stocks,look_ahead))\n",
    "test=cp.quad_form(x[:,0],Q[0])"
   ]
  },
  {
   "cell_type": "code",
   "execution_count": 39,
   "metadata": {},
   "outputs": [
    {
     "data": {
      "text/plain": [
       "0.23963274106014432"
      ]
     },
     "execution_count": 39,
     "metadata": {},
     "output_type": "execute_result"
    }
   ],
   "source": [
    "#now create a sample single period MVO\n",
    "#Assume universe 3 stocks\n",
    "num_stocks=3\n",
    "\n",
    "#Need 10x1 vector r of expected returns, need covariance matrix Q (randomly initiate for now)\n",
    "\n",
    "Q=[[0.8, 0.05, -0.1],[0.05, 0.6, 0.08], [-0.1 ,0.08 ,0.7]]\n",
    "#Construct optimization problem\n",
    "x=cp.Variable(num_stocks)\n",
    "lam=0.1\n",
    "portfolio_return= r.transpose()@x\n",
    "portfolio_risk = cp.quad_form(x,Q)\n",
    "objective= cp.Minimize(portfolio_risk)\n",
    "\n",
    "#Set Constraints\n",
    "constraints=[cp.sum(x)==1]\n",
    "\n",
    "#Construct Problem and Solve\n",
    "prob= cp.Problem(objective, constraints)\n",
    "prob.solve()"
   ]
  },
  {
   "cell_type": "code",
   "execution_count": 42,
   "metadata": {},
   "outputs": [
    {
     "data": {
      "text/plain": [
       "array([0.32309865, 0.32562635, 0.351275  ])"
      ]
     },
     "execution_count": 42,
     "metadata": {},
     "output_type": "execute_result"
    }
   ],
   "source": [
    "x.value"
   ]
  },
  {
   "cell_type": "code",
   "execution_count": 59,
   "metadata": {},
   "outputs": [
    {
     "data": {
      "text/plain": [
       "array([[1, 5],\n",
       "       [2, 6]])"
      ]
     },
     "execution_count": 59,
     "metadata": {},
     "output_type": "execute_result"
    }
   ],
   "source": [
    "a=[[1,2],[3,4]]\n",
    "b=[[5,6],[7,8]]\n",
    "\n",
    "res=np.stack((a,b))\n",
    "res[:][0][:]"
   ]
  },
  {
   "cell_type": "code",
   "execution_count": null,
   "metadata": {},
   "outputs": [],
   "source": []
  }
 ],
 "metadata": {
  "kernelspec": {
   "display_name": "Python 3",
   "language": "python",
   "name": "python3"
  },
  "language_info": {
   "codemirror_mode": {
    "name": "ipython",
    "version": 3
   },
   "file_extension": ".py",
   "mimetype": "text/x-python",
   "name": "python",
   "nbconvert_exporter": "python",
   "pygments_lexer": "ipython3",
   "version": "3.8.5"
  }
 },
 "nbformat": 4,
 "nbformat_minor": 4
}
