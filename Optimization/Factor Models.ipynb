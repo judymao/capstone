{
 "cells": [
  {
   "cell_type": "code",
   "execution_count": 16,
   "metadata": {},
   "outputs": [],
   "source": [
    "import pandas as pd\n",
    "import scipy.optimize as sco\n",
    "import numpy as np\n",
    "import pandas_datareader as web\n",
    "import datetime\n",
    "from scipy import stats\n",
    "from sklearn.linear_model import LinearRegression, Ridge, Lasso\n",
    "import statsmodels.api as smf\n",
    "import urllib.request\n",
    "import zipfile\n",
    "import cvxpy as cp\n",
    "from copy import deepcopy\n",
    "import matplotlib.ticker as mtick"
   ]
  },
  {
   "cell_type": "code",
   "execution_count": 17,
   "metadata": {},
   "outputs": [],
   "source": [
    "def get_fama_french(period=\"M\"):\n",
    "    # Web url\n",
    "    ff_url = \"https://mba.tuck.dartmouth.edu/pages/faculty/ken.french/ftp/F-F_Research_Data_Factors_CSV.zip\"\n",
    "    \n",
    "    # Download the file and save it  \n",
    "    urllib.request.urlretrieve(ff_url,'fama_french.zip')\n",
    "    zip_file = zipfile.ZipFile('fama_french.zip', 'r')\n",
    "    \n",
    "    # Extact the file data\n",
    "    zip_file.extractall()\n",
    "    zip_file.close()\n",
    "    \n",
    "    ff_factors = pd.read_csv('F-F_Research_Data_Factors.csv', skiprows = 3, index_col = 0)\n",
    "   \n",
    "    # Skip null rows\n",
    "    ff_row = ff_factors.isnull().any(1).to_numpy().nonzero()[0][0]\n",
    "    \n",
    "    # Read the csv file again with skipped rows\n",
    "    ff_factors = pd.read_csv('F-F_Research_Data_Factors.csv', skiprows = 3, nrows = ff_row, index_col = 0)\n",
    "    \n",
    "    # Format the date index\n",
    "    ff_factors.index = pd.to_datetime(ff_factors.index, format= '%Y%m')\n",
    "    \n",
    "    # Format dates to end of month\n",
    "    ff_factors.index = ff_factors.index + pd.offsets.MonthEnd()\n",
    "    \n",
    "    # Resample the data to correct frequency\n",
    "    ff_factors = ff_factors.resample(period).last()\n",
    "    \n",
    "    # Convert from percent to decimal\n",
    "    ff_factors = ff_factors.apply(lambda x: x/ 100)\n",
    "    return ff_factors"
   ]
  },
  {
   "cell_type": "code",
   "execution_count": 18,
   "metadata": {},
   "outputs": [],
   "source": [
    "def get_momentum(period=\"M\"):\n",
    "    url = \"https://mba.tuck.dartmouth.edu/pages/faculty/ken.french/ftp/F-F_Momentum_Factor_CSV.zip\"\n",
    "    \n",
    "    # Download the file and save it  \n",
    "    urllib.request.urlretrieve(url,'momentum.zip')\n",
    "    zip_file = zipfile.ZipFile('momentum.zip', 'r')\n",
    "    \n",
    "    # Extact the file data\n",
    "    zip_file.extractall()\n",
    "    zip_file.close()\n",
    "    \n",
    "    momentum_factor = pd.read_csv('F-F_Momentum_Factor.csv', skiprows = 13, index_col = 0)\n",
    "   \n",
    "    # Skip null rows\n",
    "    row = momentum_factor.isnull().any(1).nonzero()[0][0]\n",
    "    \n",
    "    # Read the csv file again with skipped rows\n",
    "    momentum_factor = pd.read_csv('F-F_Momentum_Factor.csv', skiprows = 13, nrows = row, index_col = 0)\n",
    "    \n",
    "    # Format the date index\n",
    "    momentum_factor.index = pd.to_datetime(momentum_factor.index, format= '%Y%m')\n",
    "    \n",
    "    # Format dates to end of month\n",
    "    momentum_factor.index = momentum_factor.index + pd.offsets.MonthEnd()\n",
    "    \n",
    "     # Resample the data to correct frequency\n",
    "    momentum_factor = momentum_factor.resample(period).last()\n",
    "    \n",
    "    # Convert from percent to decimal\n",
    "    momentum_factor = momentum_factor.apply(lambda x: x/ 100)\n",
    "    return momentum_factor"
   ]
  },
  {
   "cell_type": "code",
   "execution_count": 122,
   "metadata": {},
   "outputs": [],
   "source": [
    "def get_return_data(price_data, period = \"M\"):\n",
    "    \n",
    "    # Resample the data to monthly price\n",
    "    price = price_data.resample(period).last()\n",
    "    \n",
    "    # Calculate the percent change\n",
    "    ret_data = price.pct_change()[1:]\n",
    "    \n",
    "    # Convert from series to dataframe\n",
    "    ret_data = pd.DataFrame(ret_data)\n",
    "    \n",
    "    return ret_data"
   ]
  },
  {
   "cell_type": "code",
   "execution_count": 118,
   "metadata": {},
   "outputs": [],
   "source": [
    "def get_mu_Q_multiperiod(exRets, factor_data, lookahead, lookback, regress_type=\"Linear\"):\n",
    "    \"\"\"\n",
    "    exRets: excess return data for stocks\n",
    "    factor_data: factor return data\n",
    "    lookahead: number of periods in the future to estimate\n",
    "    lookback: number of periods in the past to use for estimations\n",
    "    regress_type: can be 'Linear', 'Lasso', or 'Ridge'\n",
    "    \"\"\"\n",
    "    \n",
    "    # For keeping track of mu's and Q's from each period\n",
    "    mu_arr = []\n",
    "    Q_arr = []\n",
    "            \n",
    "    n_factors = len(factor_data.columns)\n",
    "    factor_data = factor_data.tail(lookback)\n",
    "    exRets = exRets.tail(lookback)\n",
    "    factor_data = deepcopy(factor_data)\n",
    "    \n",
    "    for i in range(0, lookahead):\n",
    "\n",
    "        # Calculate the factor covariance matrix\n",
    "        F = factor_data.loc[:, factor_data.columns != 'Ones'].cov()\n",
    "        \n",
    "        # Calculate the factor expected excess return from historical data using the geometric mean\n",
    "        factor_data.loc[:, 'Ones'] = 1\n",
    "        gmean = stats.gmean(factor_data + 1,axis=0) - 1\n",
    "\n",
    "        # Set up X and Y to determine alpha and beta\n",
    "        X = factor_data\n",
    "        Y = exRets\n",
    "        X = X.to_numpy()\n",
    "        Y = Y.to_numpy()\n",
    "\n",
    "       # Determine alpha and beta\n",
    "        if regress_type==\"Linear\":\n",
    "            model = LinearRegression().fit(X,Y)\n",
    "        elif regress_type==\"Lasso\":\n",
    "            model = Lasso().fit(X,Y)\n",
    "        elif regress_type==\"Ridge\":\n",
    "            model = Ridge().fit(X,Y)\n",
    "        else:\n",
    "            print(\"Error: This type of regression has not been implemented.\")\n",
    "        alpha = model.intercept_\n",
    "        beta = model.coef_[:,0:n_factors]\n",
    "\n",
    "        # Calculate the residuals \n",
    "        alpha = np.reshape(alpha,(alpha.size,1))\n",
    "        epsilon = exRets.to_numpy() - np.matmul(X, np.transpose(np.hstack((beta, alpha))))\n",
    "\n",
    "        # Calculate the residual variance with \"N - p - 1\" degrees of freedom\n",
    "        p = 3\n",
    "        sigmaEp = np.sum(epsilon**2, axis=0) / (len(exRets) - 1 - p)\n",
    "\n",
    "        #  Calculate the asset expected excess returns\n",
    "        mu = model.predict([gmean])[0]\n",
    "\n",
    "        # Calculate the diagonal matrix of residuals and the asset covariance matrix\n",
    "        D = np.diag(sigmaEp)\n",
    "\n",
    "        # Calculate the covariance matrix\n",
    "        Q = np.matmul(np.matmul(beta,F.to_numpy()),beta.T)+D\n",
    "        \n",
    "        # Add mu and Q to array\n",
    "        mu_arr.append(mu)\n",
    "        Q_arr.append(Q)\n",
    "        \n",
    "        # Update for next time step\n",
    "        factor_data = factor_data[1:]\n",
    "        factor_append = pd.Series(gmean, index = factor_data.columns)\n",
    "        factor_data=factor_data.append(factor_append, ignore_index=True)\n",
    "        \n",
    "        exRets = exRets[1:]\n",
    "        mu_append = pd.Series(mu, index=exRets.columns)\n",
    "        exRets = exRets.append(mu_append, ignore_index=True)   \n",
    "        \n",
    "    return mu_arr, Q_arr"
   ]
  },
  {
   "cell_type": "code",
   "execution_count": 65,
   "metadata": {},
   "outputs": [],
   "source": [
    "# def get_mu_Q_PCA(price_data, K):\n",
    "#     # Calculate excess returns \n",
    "#     exRets = get_return_data(price_data)\n",
    "    \n",
    "#     meanRets = \n",
    "    \n",
    "#     return mu, Q"
   ]
  },
  {
   "cell_type": "code",
   "execution_count": 66,
   "metadata": {},
   "outputs": [],
   "source": [
    "def portfolio_volatility(weights, mean_returns, cov_matrix):\n",
    "    returns = np.sum(mean_returns*weights ) *252\n",
    "    std = np.sqrt(np.dot(weights.T, np.dot(cov_matrix, weights))) * np.sqrt(252)\n",
    "    return std"
   ]
  },
  {
   "cell_type": "code",
   "execution_count": 67,
   "metadata": {},
   "outputs": [],
   "source": [
    "def portfolio_returns(weights, mean_returns, cov_matrix):\n",
    "    return np.sum(mean_returns*weights ) *252"
   ]
  },
  {
   "cell_type": "code",
   "execution_count": 68,
   "metadata": {},
   "outputs": [],
   "source": [
    "def min_variance(mean_returns, cov_matrix, target_return=0.1):\n",
    "    num_assets = len(mean_returns)\n",
    "    args = (mean_returns, cov_matrix)\n",
    "    constraints = ({'type': 'eq', 'fun': lambda x: np.sum(x) - 1},\n",
    "                    {'type': 'eq', 'fun': lambda x: target_return - portfolio_returns(x, mean_returns, cov_matrix)})\n",
    "    bound = (0.0,1.0)\n",
    "    bounds = tuple(bound for asset in range(num_assets))\n",
    "\n",
    "    result = sco.minimize(portfolio_volatility, num_assets*[1./num_assets,], args=args,\n",
    "                        method='SLSQP', bounds=bounds, constraints=constraints)\n",
    "    \n",
    "    return result"
   ]
  },
  {
   "cell_type": "code",
   "execution_count": 69,
   "metadata": {},
   "outputs": [
    {
     "data": {
      "text/plain": [
       "(2518, 427)"
      ]
     },
     "execution_count": 69,
     "metadata": {},
     "output_type": "execute_result"
    }
   ],
   "source": [
    "# Get price data\n",
    "price_data = pd.read_csv(\"../Data/sp500df.csv\", index_col='Date')\n",
    "price_data.index = pd.to_datetime(price_data.index)\n",
    "price_data.shape"
   ]
  },
  {
   "cell_type": "code",
   "execution_count": 84,
   "metadata": {
    "scrolled": false
   },
   "outputs": [],
   "source": [
    "'''Fama-French'''\n",
    "\n",
    "ff_data = get_fama_french()\n",
    "ff_data = ff_data.iloc[:,0:3] \n",
    "\n",
    "# Make dates consistent between price and factor data\n",
    "exRets = get_return_data(price_data)\n",
    "factor_last = ff_data.index[ff_data.shape[0] - 1].date()\n",
    "exRets = exRets.loc[:factor_last]\n",
    "price_first = exRets.index[0].date()\n",
    "ff_data = ff_data.loc[price_first:]\n",
    "\n",
    "mu, Q = get_mu_Q_multiperiod(exRets, ff_data, 3,24, \"Lasso\")\n",
    "print(np.array(mu).shape)\n",
    "print(np.array(Q).shape)\n",
    "#min_variance(mu,Q)"
   ]
  },
  {
   "cell_type": "code",
   "execution_count": 72,
   "metadata": {
    "scrolled": false
   },
   "outputs": [],
   "source": [
    "# # Run optimization for CAPM\n",
    "# CAPM_data = ff_data.iloc[:,0:1] #first column of FF data is just market rf\n",
    "# mu, Q = get_mu_Q(price_data, CAPM_data)\n",
    "# min_variance(mu,Q)"
   ]
  },
  {
   "cell_type": "code",
   "execution_count": 73,
   "metadata": {
    "scrolled": false
   },
   "outputs": [],
   "source": [
    "# # Run optimization for Carhart (FF + momentum)\n",
    "# momentum_factor = get_momentum()\n",
    "# carhart_data = pd.concat([ff_data, momentum_factor], axis=1).dropna()\n",
    "# mu, Q = get_mu_Q(price_data, carhart_data)\n",
    "# min_variance(mu,Q)"
   ]
  },
  {
   "cell_type": "code",
   "execution_count": 75,
   "metadata": {},
   "outputs": [],
   "source": [
    "def backtest(rebal_freq, start_date, end_date,lookback=3, lookahead=3, factor_model = \"FF\", regress_type = \"Lasso\"):\n",
    "    \"\"\"start_date and end_date format should be \"%d%m%Y\", e.g. \"24052010\" \"\"\"\n",
    "    \n",
    "    #start_date = datetime.datetime.strptime(start_date, \"%d%m%Y\").date()\n",
    "    #end_date = datetime.datetime.strptime(end_date, \"%d%m%Y\").date()  \n",
    "    \n",
    "    exRets = get_return_data(price_data,rebal_freq)\n",
    "    stock_returns = exRets.loc[start_date:end_date] \n",
    "\n",
    "    portfolio_returns = []\n",
    "    \n",
    "    \n",
    "    if factor_model == \"FF\":\n",
    "        factor_data = get_fama_french(rebal_freq)\n",
    "        factor_data = factor_data.iloc[:,0:3]    \n",
    "    \n",
    "\n",
    "    \n",
    "    n_periods = len(stock_returns.index)\n",
    "    reb_dates= np.array(stock_returns.index)\n",
    "    full_dates= np.array(exRets.index)\n",
    "\n",
    "            \n",
    "    for t in reb_dates:\n",
    "\n",
    "        exRets_t_idx= exRets.index.get_loc(t)\n",
    "        factor_data_t_idx= factor_data.index.get_loc(t)   \n",
    "        \n",
    "        exRets_t = exRets.iloc[exRets_t_idx-lookback:exRets_t_idx]\n",
    "        factor_data_t = factor_data.iloc[factor_data_t_idx-lookback:factor_data_t_idx]        \n",
    "        \n",
    "        mu, Q = get_mu_Q_multiperiod(exRets_t, factor_data_t, lookahead, lookback, regress_type)\n",
    "               \n",
    "        #INSERT PREDICTED WEIGHTS, SHOULD BE 1D ARRAY (1 x number of stocks)\n",
    "        #weights = INSERTMODELHERE(mu,Q)\n",
    "        #DELETE LINE BELOW - JUST A PLACEHOLDER        \n",
    "        #print(t)\n",
    "        weights = [1/len(exRets.columns) for i in range(len(exRets.columns))]\n",
    "        #weights = MVO(mu,Q,look_ahead)\n",
    "        period_return = sum(weights*stock_returns.loc[t])\n",
    "        portfolio_returns.append(period_return)\n",
    "        \n",
    "    return portfolio_returns"
   ]
  },
  {
   "cell_type": "code",
   "execution_count": 76,
   "metadata": {},
   "outputs": [],
   "source": [
    "def check_symmetric(a, tol=1e-8):\n",
    "    return np.all(np.abs(a-a.T) < tol)"
   ]
  },
  {
   "cell_type": "code",
   "execution_count": 77,
   "metadata": {},
   "outputs": [
    {
     "name": "stdout",
     "output_type": "stream",
     "text": [
      "(3, 427)\n",
      "(3, 427, 427)\n"
     ]
    },
    {
     "name": "stderr",
     "output_type": "stream",
     "text": [
      "C:\\Users\\Mary\\Anaconda3\\envs\\capstone\\lib\\site-packages\\ipykernel_launcher.py:24: SettingWithCopyWarning: \n",
      "A value is trying to be set on a copy of a slice from a DataFrame.\n",
      "Try using .loc[row_indexer,col_indexer] = value instead\n",
      "\n",
      "See the caveats in the documentation: https://pandas.pydata.org/pandas-docs/stable/user_guide/indexing.html#returning-a-view-versus-a-copy\n"
     ]
    }
   ],
   "source": [
    "ff_data = get_fama_french()\n",
    "ff_data = ff_data.iloc[:,0:3] \n",
    "\n",
    "# Make dates consistent between price and factor data\n",
    "exRets = get_return_data(price_data)\n",
    "factor_last = ff_data.index[ff_data.shape[0] - 1].date()\n",
    "exRets = exRets.loc[:factor_last]\n",
    "price_first = exRets.index[0].date()\n",
    "ff_data = ff_data.loc[price_first:]\n",
    "\n",
    "mu, Q = get_mu_Q_multiperiod(exRets, ff_data,3,24, \"Lasso\")\n",
    "print(np.array(mu).shape)\n",
    "print(np.array(Q).shape)"
   ]
  },
  {
   "cell_type": "code",
   "execution_count": 78,
   "metadata": {},
   "outputs": [],
   "source": [
    "#create a simple multi period MVO model\n",
    "\n",
    "def MVO(mu, Q, look_ahead):\n",
    "\n",
    "    mu_np =np.array(mu)\n",
    "    num_stocks=mu_np.shape[1]\n",
    "\n",
    "    #Construct optimization problem\n",
    "    x=cp.Variable((num_stocks,look_ahead))\n",
    "    lam=0.1\n",
    "    portfolio_return_per_period= mu_np @ x\n",
    "    portfolio_return= cp.sum(portfolio_return_per_period)\n",
    "\n",
    "    portfolio_risk=0\n",
    "    for i in range(look_ahead):\n",
    "        portfolio_risk+=cp.quad_form(x[:,i],Q[i])    \n",
    "    robustness_cost=0\n",
    "    #find deltas\n",
    "\n",
    "    objective= cp.Maximize(portfolio_return - lam*portfolio_risk)\n",
    "\n",
    "    #Set Constraints\n",
    "    constraints=[cp.sum(x)==1]\n",
    "\n",
    "    #Construct Problem and Solve\n",
    "    prob= cp.Problem(objective, constraints)\n",
    "    result=prob.solve()\n",
    "    \n",
    "    return x.value"
   ]
  },
  {
   "cell_type": "code",
   "execution_count": 123,
   "metadata": {
    "scrolled": true
   },
   "outputs": [],
   "source": [
    "\n",
    "rebal_freq=\"M\"\n",
    "start_date= \"2015-10-31\"\n",
    "end_date= \"2019-10-31\"\n",
    "\n",
    "\n",
    "portfolio_returns = backtest(rebal_freq, start_date, end_date, 3)\n",
    "\n",
    "exRets = get_return_data(price_data,rebal_freq)\n",
    "stock_returns = exRets.loc[start_date:end_date] \n",
    "\n",
    "n_periods = len(stock_returns.index)\n",
    "reb_dates= np.array(stock_returns.index)\n",
    "full_dates= np.array(exRets.index)"
   ]
  },
  {
   "cell_type": "code",
   "execution_count": 125,
   "metadata": {},
   "outputs": [],
   "source": [
    "portf_cumu_returns = np.array([x+1 for x in portfolio_returns]).cumprod()"
   ]
  },
  {
   "cell_type": "code",
   "execution_count": 133,
   "metadata": {},
   "outputs": [
    {
     "data": {
      "text/plain": [
       "Text(0, 0.5, 'Cumulative Return')"
      ]
     },
     "execution_count": 133,
     "metadata": {},
     "output_type": "execute_result"
    },
    {
     "data": {
      "image/png": "[encoded data removed]",
      "text/plain": [
       "<Figure size 864x432 with 1 Axes>"
      ]
     },
     "metadata": {
      "needs_background": "light"
     },
     "output_type": "display_data"
    }
   ],
   "source": [
    "plt.figure(figsize=(12,6))\n",
    "plt.plot(reb_dates, portf_cumu_returns)\n",
    "plt.xticks(rotation=45)\n",
    "plt.gca().yaxis.set_major_formatter(mtick.PercentFormatter(1.0))\n",
    "plt.xlabel(\"Date\")\n",
    "plt.ylabel(\"Cumulative Return\")"
   ]
  },
  {
   "cell_type": "code",
   "execution_count": null,
   "metadata": {},
   "outputs": [],
   "source": [
    "# def get_mu_Q(exRets, factor_data, regress_type=\"Linear\"):\n",
    "\n",
    "#     # Calculate the factor expected excess return from historical data using the geometric mean\n",
    "#     gmean = stats.gmean(factor_data + 1,axis=0) - 1\n",
    "#     n_factors = len(gmean)\n",
    " \n",
    "#     # Calculate the factor covariance matrix\n",
    "#     F = factor_data.cov()\n",
    "    \n",
    "#     # Set up X and Y to determine alpha and beta\n",
    "#     factor_data['Ones'] = [1 for i in range(len(factor_data))]\n",
    "#     X = factor_data\n",
    "#     Y = exRets\n",
    "#     X = X.to_numpy()\n",
    "#     Y = Y.to_numpy()\n",
    "    \n",
    "#    # Determine alpha and beta\n",
    "#     if regress_type == \"Linear\":\n",
    "#         model = LinearRegression().fit(X,Y)\n",
    "#     elif regress_type == \"Lasso\":\n",
    "#         model = Lasso().fit(X,Y)\n",
    "#     else:\n",
    "#         model = Ridge().fit(X,Y)\n",
    "#     alpha = model.intercept_\n",
    "#     beta = model.coef_[:,0:n_factors]\n",
    "\n",
    "#     # Calculate the residuals \n",
    "#     alpha = np.reshape(alpha,(alpha.size,1))\n",
    "#     epsilon = exRets.to_numpy() - np.matmul(X, np.transpose(np.hstack((beta, alpha))))\n",
    "    \n",
    "#     # Calculate the residual variance with \"N - p - 1\" degrees of freedom\n",
    "#     p = 3\n",
    "#     sigmaEp = np.sum(epsilon**2, axis=0) / (len(exRets) - 1 - p)\n",
    "    \n",
    "#     #  Calculate the asset expected excess returns\n",
    "#     mu = model.predict([np.append(gmean,1)])[0]\n",
    "    \n",
    "#     # Calculate the diagonal matrix of residuals and the asset covariance matrix\n",
    "#     D = np.diag(sigmaEp)\n",
    "    \n",
    "#     # Calculate the covariance matrix\n",
    "#     Q = np.matmul(np.matmul(beta,F.to_numpy()),beta.T)+D\n",
    "\n",
    "    \n",
    "#     return mu, Q"
   ]
  },
  {
   "cell_type": "code",
   "execution_count": null,
   "metadata": {},
   "outputs": [],
   "source": []
  },
  {
   "cell_type": "code",
   "execution_count": null,
   "metadata": {},
   "outputs": [],
   "source": []
  }
 ],
 "metadata": {
  "kernelspec": {
   "display_name": "Python 3",
   "language": "python",
   "name": "python3"
  },
  "language_info": {
   "codemirror_mode": {
    "name": "ipython",
    "version": 3
   },
   "file_extension": ".py",
   "mimetype": "text/x-python",
   "name": "python",
   "nbconvert_exporter": "python",
   "pygments_lexer": "ipython3",
   "version": "3.6.10"
  }
 },
 "nbformat": 4,
 "nbformat_minor": 2
}
