{
 "cells": [
  {
   "cell_type": "code",
   "execution_count": 1,
   "metadata": {},
   "outputs": [],
   "source": [
    "import os\n",
    "import pandas as pd\n",
    "import numpy as np"
   ]
  },
  {
   "cell_type": "code",
   "execution_count": 12,
   "metadata": {},
   "outputs": [],
   "source": [
    "sp_data = pd.read_csv('sp500df.csv')\n",
    "sp_sector_mapping = pd.read_csv('SP500_Sectors.csv')\n",
    "sp_sectors_data = pd.read_csv('SP500_Sector_Data.csv')"
   ]
  },
  {
   "cell_type": "code",
   "execution_count": 78,
   "metadata": {},
   "outputs": [
    {
     "data": {
      "text/html": [
       "<div>\n",
       "<style scoped>\n",
       "    .dataframe tbody tr th:only-of-type {\n",
       "        vertical-align: middle;\n",
       "    }\n",
       "\n",
       "    .dataframe tbody tr th {\n",
       "        vertical-align: top;\n",
       "    }\n",
       "\n",
       "    .dataframe thead th {\n",
       "        text-align: right;\n",
       "    }\n",
       "</style>\n",
       "<table border=\"1\" class=\"dataframe\">\n",
       "  <thead>\n",
       "    <tr style=\"text-align: right;\">\n",
       "      <th></th>\n",
       "      <th>Ticker</th>\n",
       "      <th>Sector</th>\n",
       "      <th>Specifics</th>\n",
       "    </tr>\n",
       "  </thead>\n",
       "  <tbody>\n",
       "    <tr>\n",
       "      <th>0</th>\n",
       "      <td>MMM</td>\n",
       "      <td>Industrials</td>\n",
       "      <td>Industrial Conglomerates</td>\n",
       "    </tr>\n",
       "    <tr>\n",
       "      <th>1</th>\n",
       "      <td>AOS</td>\n",
       "      <td>Industrials</td>\n",
       "      <td>Building Products</td>\n",
       "    </tr>\n",
       "    <tr>\n",
       "      <th>2</th>\n",
       "      <td>ABT</td>\n",
       "      <td>Health Care</td>\n",
       "      <td>Health Care Equipment</td>\n",
       "    </tr>\n",
       "    <tr>\n",
       "      <th>3</th>\n",
       "      <td>ABBV</td>\n",
       "      <td>Health Care</td>\n",
       "      <td>Pharmaceuticals</td>\n",
       "    </tr>\n",
       "    <tr>\n",
       "      <th>4</th>\n",
       "      <td>ABMD</td>\n",
       "      <td>Health Care</td>\n",
       "      <td>Health Care Equipment</td>\n",
       "    </tr>\n",
       "  </tbody>\n",
       "</table>\n",
       "</div>"
      ],
      "text/plain": [
       "  Ticker       Sector                 Specifics\n",
       "0    MMM  Industrials  Industrial Conglomerates\n",
       "1    AOS  Industrials         Building Products\n",
       "2    ABT  Health Care     Health Care Equipment\n",
       "3   ABBV  Health Care           Pharmaceuticals\n",
       "4   ABMD  Health Care     Health Care Equipment"
      ]
     },
     "execution_count": 78,
     "metadata": {},
     "output_type": "execute_result"
    }
   ],
   "source": [
    "sp_sectors_data.head()"
   ]
  },
  {
   "cell_type": "code",
   "execution_count": 95,
   "metadata": {},
   "outputs": [
    {
     "ename": "KeyError",
     "evalue": "'S&P 500 Health Care (Sector)'",
     "output_type": "error",
     "traceback": [
      "\u001b[0;31m---------------------------------------------------------------------------\u001b[0m",
      "\u001b[0;31mKeyError\u001b[0m                                  Traceback (most recent call last)",
      "\u001b[0;32m~/opt/anaconda3/envs/capstone/lib/python3.7/site-packages/pandas/core/indexes/base.py\u001b[0m in \u001b[0;36mget_loc\u001b[0;34m(self, key, method, tolerance)\u001b[0m\n\u001b[1;32m   2894\u001b[0m             \u001b[0;32mtry\u001b[0m\u001b[0;34m:\u001b[0m\u001b[0;34m\u001b[0m\u001b[0;34m\u001b[0m\u001b[0m\n\u001b[0;32m-> 2895\u001b[0;31m                 \u001b[0;32mreturn\u001b[0m \u001b[0mself\u001b[0m\u001b[0;34m.\u001b[0m\u001b[0m_engine\u001b[0m\u001b[0;34m.\u001b[0m\u001b[0mget_loc\u001b[0m\u001b[0;34m(\u001b[0m\u001b[0mcasted_key\u001b[0m\u001b[0;34m)\u001b[0m\u001b[0;34m\u001b[0m\u001b[0;34m\u001b[0m\u001b[0m\n\u001b[0m\u001b[1;32m   2896\u001b[0m             \u001b[0;32mexcept\u001b[0m \u001b[0mKeyError\u001b[0m \u001b[0;32mas\u001b[0m \u001b[0merr\u001b[0m\u001b[0;34m:\u001b[0m\u001b[0;34m\u001b[0m\u001b[0;34m\u001b[0m\u001b[0m\n",
      "\u001b[0;32mpandas/_libs/index.pyx\u001b[0m in \u001b[0;36mpandas._libs.index.IndexEngine.get_loc\u001b[0;34m()\u001b[0m\n",
      "\u001b[0;32mpandas/_libs/index.pyx\u001b[0m in \u001b[0;36mpandas._libs.index.IndexEngine.get_loc\u001b[0;34m()\u001b[0m\n",
      "\u001b[0;32mpandas/_libs/hashtable_class_helper.pxi\u001b[0m in \u001b[0;36mpandas._libs.hashtable.PyObjectHashTable.get_item\u001b[0;34m()\u001b[0m\n",
      "\u001b[0;32mpandas/_libs/hashtable_class_helper.pxi\u001b[0m in \u001b[0;36mpandas._libs.hashtable.PyObjectHashTable.get_item\u001b[0;34m()\u001b[0m\n",
      "\u001b[0;31mKeyError\u001b[0m: 'S&P 500 Health Care (Sector)'",
      "\nThe above exception was the direct cause of the following exception:\n",
      "\u001b[0;31mKeyError\u001b[0m                                  Traceback (most recent call last)",
      "\u001b[0;32m<ipython-input-95-9b4faeb042de>\u001b[0m in \u001b[0;36m<module>\u001b[0;34m\u001b[0m\n\u001b[1;32m     16\u001b[0m \u001b[0;34m\u001b[0m\u001b[0m\n\u001b[1;32m     17\u001b[0m     \u001b[0;31m# Get the correlation\u001b[0m\u001b[0;34m\u001b[0m\u001b[0;34m\u001b[0m\u001b[0;34m\u001b[0m\u001b[0m\n\u001b[0;32m---> 18\u001b[0;31m     \u001b[0mcorrs\u001b[0m \u001b[0;34m=\u001b[0m \u001b[0msp_industrials_data\u001b[0m\u001b[0;34m[\u001b[0m\u001b[0msp_industrials_data\u001b[0m\u001b[0;34m.\u001b[0m\u001b[0mcolumns\u001b[0m\u001b[0;34m[\u001b[0m\u001b[0;36m1\u001b[0m\u001b[0;34m:\u001b[0m\u001b[0;34m]\u001b[0m\u001b[0;34m]\u001b[0m\u001b[0;34m.\u001b[0m\u001b[0mcorr\u001b[0m\u001b[0;34m(\u001b[0m\u001b[0;34m)\u001b[0m\u001b[0;34m[\u001b[0m\u001b[0;34m'S&P 500 '\u001b[0m\u001b[0;34m+\u001b[0m \u001b[0msector\u001b[0m \u001b[0;34m+\u001b[0m\u001b[0;34m' (Sector)'\u001b[0m\u001b[0;34m]\u001b[0m\u001b[0;34m[\u001b[0m\u001b[0;34m:\u001b[0m\u001b[0;34m-\u001b[0m\u001b[0;36m1\u001b[0m\u001b[0;34m]\u001b[0m\u001b[0;34m\u001b[0m\u001b[0;34m\u001b[0m\u001b[0m\n\u001b[0m\u001b[1;32m     19\u001b[0m \u001b[0;34m\u001b[0m\u001b[0m\n\u001b[1;32m     20\u001b[0m     \u001b[0mbest_stocks\u001b[0m\u001b[0;34m[\u001b[0m\u001b[0msector\u001b[0m\u001b[0;34m]\u001b[0m \u001b[0;34m=\u001b[0m \u001b[0mlist\u001b[0m\u001b[0;34m(\u001b[0m\u001b[0mcorrs\u001b[0m\u001b[0;34m.\u001b[0m\u001b[0mnlargest\u001b[0m\u001b[0;34m(\u001b[0m\u001b[0mnum_stocks\u001b[0m\u001b[0;34m)\u001b[0m\u001b[0;34m.\u001b[0m\u001b[0mindex\u001b[0m\u001b[0;34m.\u001b[0m\u001b[0mvalues\u001b[0m\u001b[0;34m)\u001b[0m\u001b[0;34m\u001b[0m\u001b[0;34m\u001b[0m\u001b[0m\n",
      "\u001b[0;32m~/opt/anaconda3/envs/capstone/lib/python3.7/site-packages/pandas/core/frame.py\u001b[0m in \u001b[0;36m__getitem__\u001b[0;34m(self, key)\u001b[0m\n\u001b[1;32m   2904\u001b[0m             \u001b[0;32mif\u001b[0m \u001b[0mself\u001b[0m\u001b[0;34m.\u001b[0m\u001b[0mcolumns\u001b[0m\u001b[0;34m.\u001b[0m\u001b[0mnlevels\u001b[0m \u001b[0;34m>\u001b[0m \u001b[0;36m1\u001b[0m\u001b[0;34m:\u001b[0m\u001b[0;34m\u001b[0m\u001b[0;34m\u001b[0m\u001b[0m\n\u001b[1;32m   2905\u001b[0m                 \u001b[0;32mreturn\u001b[0m \u001b[0mself\u001b[0m\u001b[0;34m.\u001b[0m\u001b[0m_getitem_multilevel\u001b[0m\u001b[0;34m(\u001b[0m\u001b[0mkey\u001b[0m\u001b[0;34m)\u001b[0m\u001b[0;34m\u001b[0m\u001b[0;34m\u001b[0m\u001b[0m\n\u001b[0;32m-> 2906\u001b[0;31m             \u001b[0mindexer\u001b[0m \u001b[0;34m=\u001b[0m \u001b[0mself\u001b[0m\u001b[0;34m.\u001b[0m\u001b[0mcolumns\u001b[0m\u001b[0;34m.\u001b[0m\u001b[0mget_loc\u001b[0m\u001b[0;34m(\u001b[0m\u001b[0mkey\u001b[0m\u001b[0;34m)\u001b[0m\u001b[0;34m\u001b[0m\u001b[0;34m\u001b[0m\u001b[0m\n\u001b[0m\u001b[1;32m   2907\u001b[0m             \u001b[0;32mif\u001b[0m \u001b[0mis_integer\u001b[0m\u001b[0;34m(\u001b[0m\u001b[0mindexer\u001b[0m\u001b[0;34m)\u001b[0m\u001b[0;34m:\u001b[0m\u001b[0;34m\u001b[0m\u001b[0;34m\u001b[0m\u001b[0m\n\u001b[1;32m   2908\u001b[0m                 \u001b[0mindexer\u001b[0m \u001b[0;34m=\u001b[0m \u001b[0;34m[\u001b[0m\u001b[0mindexer\u001b[0m\u001b[0;34m]\u001b[0m\u001b[0;34m\u001b[0m\u001b[0;34m\u001b[0m\u001b[0m\n",
      "\u001b[0;32m~/opt/anaconda3/envs/capstone/lib/python3.7/site-packages/pandas/core/indexes/base.py\u001b[0m in \u001b[0;36mget_loc\u001b[0;34m(self, key, method, tolerance)\u001b[0m\n\u001b[1;32m   2895\u001b[0m                 \u001b[0;32mreturn\u001b[0m \u001b[0mself\u001b[0m\u001b[0;34m.\u001b[0m\u001b[0m_engine\u001b[0m\u001b[0;34m.\u001b[0m\u001b[0mget_loc\u001b[0m\u001b[0;34m(\u001b[0m\u001b[0mcasted_key\u001b[0m\u001b[0;34m)\u001b[0m\u001b[0;34m\u001b[0m\u001b[0;34m\u001b[0m\u001b[0m\n\u001b[1;32m   2896\u001b[0m             \u001b[0;32mexcept\u001b[0m \u001b[0mKeyError\u001b[0m \u001b[0;32mas\u001b[0m \u001b[0merr\u001b[0m\u001b[0;34m:\u001b[0m\u001b[0;34m\u001b[0m\u001b[0;34m\u001b[0m\u001b[0m\n\u001b[0;32m-> 2897\u001b[0;31m                 \u001b[0;32mraise\u001b[0m \u001b[0mKeyError\u001b[0m\u001b[0;34m(\u001b[0m\u001b[0mkey\u001b[0m\u001b[0;34m)\u001b[0m \u001b[0;32mfrom\u001b[0m \u001b[0merr\u001b[0m\u001b[0;34m\u001b[0m\u001b[0;34m\u001b[0m\u001b[0m\n\u001b[0m\u001b[1;32m   2898\u001b[0m \u001b[0;34m\u001b[0m\u001b[0m\n\u001b[1;32m   2899\u001b[0m         \u001b[0;32mif\u001b[0m \u001b[0mtolerance\u001b[0m \u001b[0;32mis\u001b[0m \u001b[0;32mnot\u001b[0m \u001b[0;32mNone\u001b[0m\u001b[0;34m:\u001b[0m\u001b[0;34m\u001b[0m\u001b[0;34m\u001b[0m\u001b[0m\n",
      "\u001b[0;31mKeyError\u001b[0m: 'S&P 500 Health Care (Sector)'"
     ]
    }
   ],
   "source": [
    "all_sp = sp_data.columns.values\n",
    "num_stocks = 5\n",
    "best_stocks = {}\n",
    "\n",
    "for sector in sp_sector_mapping.Sector.unique():\n",
    "    \n",
    "    # Get the tickers for that sector only, and select the values that are available in our dataframe\n",
    "    sector_tickers = sp_sector_mapping.Ticker.loc[sp_sector_mapping.Sector == sector]\n",
    "    sector_tickers = list(set(all_sp) & set(list(sector_tickers.values)))\n",
    "    \n",
    "    # Get the sector data, including for individual stocks\n",
    "    sector_data = pd.merge(sp_industrials_data, sp_sectors_data[['Effective date ', \\\n",
    "                                                                    'S&P 500 '+sector+' (Sector)']],\\\n",
    "                                                                    left_on=['Date'], right_on=['Effective date '],\\\n",
    "                                                                    how = 'left').drop(['Effective date '], axis=1)\n",
    "    \n",
    "    # Get the correlation\n",
    "    corrs = sp_industrials_data[sp_industrials_data.columns[1:]].corr()['S&P 500 '+ sector +' (Sector)'][:-1]\n",
    "    \n",
    "    best_stocks[sector] = list(corrs.nlargest(num_stocks).index.values)"
   ]
  },
  {
   "cell_type": "code",
   "execution_count": 17,
   "metadata": {},
   "outputs": [],
   "source": [
    "sp_industrials = sp_sector_mapping.Ticker.loc[sp_sector_mapping.Sector == 'Industrials']"
   ]
  },
  {
   "cell_type": "code",
   "execution_count": 52,
   "metadata": {},
   "outputs": [],
   "source": [
    "sp_list = list(sp_industrials.values)\n",
    "all_sp = sp_data.columns.values\n",
    "sp_list = list(set(sp_list) & set(all_sp))"
   ]
  },
  {
   "cell_type": "code",
   "execution_count": 73,
   "metadata": {},
   "outputs": [],
   "source": [
    "sp_industrials_data = sp_data[['Date'] + sp_list]"
   ]
  },
  {
   "cell_type": "code",
   "execution_count": 74,
   "metadata": {},
   "outputs": [],
   "source": [
    "sp_industrials_data = pd.merge(sp_industrials_data, sp_sectors_data[['Effective date ', \\\n",
    "                                                                    'S&P 500 '+'Industrials'+' (Sector)']],\\\n",
    "                                                                    left_on=['Date'], right_on=['Effective date '],\\\n",
    "                                                                    how = 'left').drop(['Effective date '], axis=1)"
   ]
  },
  {
   "cell_type": "code",
   "execution_count": 76,
   "metadata": {},
   "outputs": [
    {
     "data": {
      "text/html": [
       "<div>\n",
       "<style scoped>\n",
       "    .dataframe tbody tr th:only-of-type {\n",
       "        vertical-align: middle;\n",
       "    }\n",
       "\n",
       "    .dataframe tbody tr th {\n",
       "        vertical-align: top;\n",
       "    }\n",
       "\n",
       "    .dataframe thead th {\n",
       "        text-align: right;\n",
       "    }\n",
       "</style>\n",
       "<table border=\"1\" class=\"dataframe\">\n",
       "  <thead>\n",
       "    <tr style=\"text-align: right;\">\n",
       "      <th></th>\n",
       "      <th>Date</th>\n",
       "      <th>DE</th>\n",
       "      <th>AAL</th>\n",
       "      <th>CMI</th>\n",
       "      <th>FAST</th>\n",
       "      <th>CHRW</th>\n",
       "      <th>EMR</th>\n",
       "      <th>MMM</th>\n",
       "      <th>GD</th>\n",
       "      <th>FLS</th>\n",
       "      <th>...</th>\n",
       "      <th>CSX</th>\n",
       "      <th>AOS</th>\n",
       "      <th>FDX</th>\n",
       "      <th>EXPD</th>\n",
       "      <th>CTAS</th>\n",
       "      <th>ALK</th>\n",
       "      <th>DOV</th>\n",
       "      <th>DAL</th>\n",
       "      <th>CAT</th>\n",
       "      <th>S&amp;P 500 Industrials (Sector)</th>\n",
       "    </tr>\n",
       "  </thead>\n",
       "  <tbody>\n",
       "    <tr>\n",
       "      <th>0</th>\n",
       "      <td>2010-11-04</td>\n",
       "      <td>79.180000</td>\n",
       "      <td>11.56</td>\n",
       "      <td>95.639999</td>\n",
       "      <td>13.4375</td>\n",
       "      <td>72.250000</td>\n",
       "      <td>56.750000</td>\n",
       "      <td>87.040001</td>\n",
       "      <td>69.169998</td>\n",
       "      <td>32.946667</td>\n",
       "      <td>...</td>\n",
       "      <td>20.840000</td>\n",
       "      <td>9.968333</td>\n",
       "      <td>88.800003</td>\n",
       "      <td>51.709999</td>\n",
       "      <td>28.170000</td>\n",
       "      <td>13.8125</td>\n",
       "      <td>37.009232</td>\n",
       "      <td>14.18</td>\n",
       "      <td>83.180000</td>\n",
       "      <td>286.67</td>\n",
       "    </tr>\n",
       "    <tr>\n",
       "      <th>1</th>\n",
       "      <td>2010-11-05</td>\n",
       "      <td>79.099998</td>\n",
       "      <td>11.57</td>\n",
       "      <td>96.389999</td>\n",
       "      <td>13.4350</td>\n",
       "      <td>71.790001</td>\n",
       "      <td>57.279999</td>\n",
       "      <td>86.339996</td>\n",
       "      <td>69.660004</td>\n",
       "      <td>34.726665</td>\n",
       "      <td>...</td>\n",
       "      <td>20.600000</td>\n",
       "      <td>9.963333</td>\n",
       "      <td>90.000000</td>\n",
       "      <td>51.779999</td>\n",
       "      <td>28.200001</td>\n",
       "      <td>13.9700</td>\n",
       "      <td>36.922089</td>\n",
       "      <td>14.26</td>\n",
       "      <td>83.540001</td>\n",
       "      <td>288.21</td>\n",
       "    </tr>\n",
       "    <tr>\n",
       "      <th>2</th>\n",
       "      <td>2010-11-08</td>\n",
       "      <td>78.669998</td>\n",
       "      <td>11.23</td>\n",
       "      <td>95.400002</td>\n",
       "      <td>13.2950</td>\n",
       "      <td>72.169998</td>\n",
       "      <td>56.860001</td>\n",
       "      <td>85.860001</td>\n",
       "      <td>69.400002</td>\n",
       "      <td>35.223331</td>\n",
       "      <td>...</td>\n",
       "      <td>20.743334</td>\n",
       "      <td>9.978333</td>\n",
       "      <td>90.309998</td>\n",
       "      <td>51.259998</td>\n",
       "      <td>28.100000</td>\n",
       "      <td>13.7750</td>\n",
       "      <td>36.560104</td>\n",
       "      <td>14.09</td>\n",
       "      <td>83.120003</td>\n",
       "      <td>287.24</td>\n",
       "    </tr>\n",
       "    <tr>\n",
       "      <th>3</th>\n",
       "      <td>2010-11-09</td>\n",
       "      <td>77.870003</td>\n",
       "      <td>10.99</td>\n",
       "      <td>93.300003</td>\n",
       "      <td>13.2500</td>\n",
       "      <td>71.190002</td>\n",
       "      <td>56.180000</td>\n",
       "      <td>85.300003</td>\n",
       "      <td>69.199997</td>\n",
       "      <td>35.173332</td>\n",
       "      <td>...</td>\n",
       "      <td>20.389999</td>\n",
       "      <td>9.676666</td>\n",
       "      <td>88.120003</td>\n",
       "      <td>50.450001</td>\n",
       "      <td>27.620001</td>\n",
       "      <td>13.3850</td>\n",
       "      <td>36.452850</td>\n",
       "      <td>13.86</td>\n",
       "      <td>81.910004</td>\n",
       "      <td>284.65</td>\n",
       "    </tr>\n",
       "    <tr>\n",
       "      <th>4</th>\n",
       "      <td>2010-11-10</td>\n",
       "      <td>78.919998</td>\n",
       "      <td>10.78</td>\n",
       "      <td>94.529999</td>\n",
       "      <td>13.3600</td>\n",
       "      <td>70.690002</td>\n",
       "      <td>56.070000</td>\n",
       "      <td>86.250000</td>\n",
       "      <td>68.209999</td>\n",
       "      <td>35.683334</td>\n",
       "      <td>...</td>\n",
       "      <td>20.570000</td>\n",
       "      <td>9.783334</td>\n",
       "      <td>88.480003</td>\n",
       "      <td>50.860001</td>\n",
       "      <td>27.870001</td>\n",
       "      <td>13.5200</td>\n",
       "      <td>36.767910</td>\n",
       "      <td>13.54</td>\n",
       "      <td>82.459999</td>\n",
       "      <td>284.23</td>\n",
       "    </tr>\n",
       "  </tbody>\n",
       "</table>\n",
       "<p>5 rows × 24 columns</p>\n",
       "</div>"
      ],
      "text/plain": [
       "         Date         DE    AAL        CMI     FAST       CHRW        EMR  \\\n",
       "0  2010-11-04  79.180000  11.56  95.639999  13.4375  72.250000  56.750000   \n",
       "1  2010-11-05  79.099998  11.57  96.389999  13.4350  71.790001  57.279999   \n",
       "2  2010-11-08  78.669998  11.23  95.400002  13.2950  72.169998  56.860001   \n",
       "3  2010-11-09  77.870003  10.99  93.300003  13.2500  71.190002  56.180000   \n",
       "4  2010-11-10  78.919998  10.78  94.529999  13.3600  70.690002  56.070000   \n",
       "\n",
       "         MMM         GD        FLS  ...        CSX       AOS        FDX  \\\n",
       "0  87.040001  69.169998  32.946667  ...  20.840000  9.968333  88.800003   \n",
       "1  86.339996  69.660004  34.726665  ...  20.600000  9.963333  90.000000   \n",
       "2  85.860001  69.400002  35.223331  ...  20.743334  9.978333  90.309998   \n",
       "3  85.300003  69.199997  35.173332  ...  20.389999  9.676666  88.120003   \n",
       "4  86.250000  68.209999  35.683334  ...  20.570000  9.783334  88.480003   \n",
       "\n",
       "        EXPD       CTAS      ALK        DOV    DAL        CAT  \\\n",
       "0  51.709999  28.170000  13.8125  37.009232  14.18  83.180000   \n",
       "1  51.779999  28.200001  13.9700  36.922089  14.26  83.540001   \n",
       "2  51.259998  28.100000  13.7750  36.560104  14.09  83.120003   \n",
       "3  50.450001  27.620001  13.3850  36.452850  13.86  81.910004   \n",
       "4  50.860001  27.870001  13.5200  36.767910  13.54  82.459999   \n",
       "\n",
       "   S&P 500 Industrials (Sector)  \n",
       "0                        286.67  \n",
       "1                        288.21  \n",
       "2                        287.24  \n",
       "3                        284.65  \n",
       "4                        284.23  \n",
       "\n",
       "[5 rows x 24 columns]"
      ]
     },
     "execution_count": 76,
     "metadata": {},
     "output_type": "execute_result"
    }
   ],
   "source": [
    "sp_industrials_data.head()"
   ]
  },
  {
   "cell_type": "code",
   "execution_count": 82,
   "metadata": {},
   "outputs": [],
   "source": [
    "x = sp_industrials_data[sp_industrials_data.columns[1:]].corr()['S&P 500 '+'Industrials'+' (Sector)'][:-1]"
   ]
  },
  {
   "cell_type": "code",
   "execution_count": 90,
   "metadata": {},
   "outputs": [
    {
     "data": {
      "text/plain": [
       "DE      0.837186\n",
       "AAL     0.607845\n",
       "CMI     0.850195\n",
       "FAST    0.682747\n",
       "CHRW    0.679577\n",
       "EMR     0.714082\n",
       "MMM     0.898802\n",
       "GD      0.930214\n",
       "FLS     0.034813\n",
       "BA      0.873326\n",
       "ETN     0.894828\n",
       "AME     0.931903\n",
       "EFX     0.907214\n",
       "CSX     0.897935\n",
       "AOS     0.933492\n",
       "FDX     0.856517\n",
       "EXPD    0.819093\n",
       "CTAS    0.886780\n",
       "ALK     0.727699\n",
       "DOV     0.901759\n",
       "DAL     0.879660\n",
       "CAT     0.706386\n",
       "Name: S&P 500 Industrials (Sector), dtype: float64"
      ]
     },
     "execution_count": 90,
     "metadata": {},
     "output_type": "execute_result"
    }
   ],
   "source": [
    "x"
   ]
  },
  {
   "cell_type": "code",
   "execution_count": 93,
   "metadata": {},
   "outputs": [
    {
     "data": {
      "text/plain": [
       "Index(['AOS', 'AME', 'GD', 'EFX', 'DOV'], dtype='object')"
      ]
     },
     "execution_count": 93,
     "metadata": {},
     "output_type": "execute_result"
    }
   ],
   "source": [
    "x.nlargest(5).index"
   ]
  },
  {
   "cell_type": "code",
   "execution_count": null,
   "metadata": {},
   "outputs": [],
   "source": []
  }
 ],
 "metadata": {
  "kernelspec": {
   "display_name": "Python 3",
   "language": "python",
   "name": "python3"
  },
  "language_info": {
   "codemirror_mode": {
    "name": "ipython",
    "version": 3
   },
   "file_extension": ".py",
   "mimetype": "text/x-python",
   "name": "python",
   "nbconvert_exporter": "python",
   "pygments_lexer": "ipython3",
   "version": "3.7.9"
  }
 },
 "nbformat": 4,
 "nbformat_minor": 4
}
