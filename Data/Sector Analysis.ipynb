{
 "cells": [
  {
   "cell_type": "code",
   "execution_count": 1,
   "metadata": {},
   "outputs": [],
   "source": [
    "import os\n",
    "import pandas as pd\n",
    "import numpy as np"
   ]
  },
  {
   "cell_type": "code",
   "execution_count": 2,
   "metadata": {},
   "outputs": [],
   "source": [
    "sp_data = pd.read_csv('sp500df.csv')\n",
    "sp_sector_mapping = pd.read_csv('SP500_Sectors.csv')\n",
    "sp_sectors_data = pd.read_csv('SP500_Sector_Data.csv')"
   ]
  },
  {
   "cell_type": "code",
   "execution_count": 3,
   "metadata": {},
   "outputs": [
    {
     "data": {
      "text/plain": [
       "Index(['Effective date ', 'S&P 500 Communication Services (Sector)',\n",
       "       'S&P 500 Consumer Discretionary (Sector)',\n",
       "       'S&P 500 Consumer Staples (Sector)', 'S&P 500 Energy (Sector)',\n",
       "       'S&P 500 Financials (Sector)', 'S&P 500 Health Care (Sector)',\n",
       "       'S&P 500 Industrials (Sector)',\n",
       "       'S&P 500 Information Technology (Sector)', 'S&P 500 Materials (Sector)',\n",
       "       'S&P 500 Real Estate (Sector)', 'S&P 500 Utilities (Sector)'],\n",
       "      dtype='object')"
      ]
     },
     "execution_count": 3,
     "metadata": {},
     "output_type": "execute_result"
    }
   ],
   "source": [
    "sp_sectors_data.columns"
   ]
  },
  {
   "cell_type": "code",
   "execution_count": 4,
   "metadata": {},
   "outputs": [],
   "source": [
    "all_sp = sp_data.columns.values\n",
    "num_stocks = 5\n",
    "best_stocks = {}\n",
    "\n",
    "for sector in sp_sector_mapping.Sector.unique():\n",
    "    \n",
    "    # Get the tickers for that sector only, and select the values that are available in our dataframe\n",
    "    sector_tickers = sp_sector_mapping.Ticker.loc[sp_sector_mapping.Sector == sector]\n",
    "    sector_tickers = list(set(all_sp) & set(list(sector_tickers.values)))\n",
    "    \n",
    "    # Get the sector data, including for individual stocks\n",
    "    sector_data = sp_data[['Date'] + sector_tickers]\n",
    "    sector_data = pd.merge(sector_data, sp_sectors_data[['Effective date ', \\\n",
    "                                                        'S&P 500 '+ sector +' (Sector)']],\\\n",
    "                                                        left_on=['Date'], right_on=['Effective date '],\\\n",
    "                                                        how = 'left').drop(['Effective date '], axis=1)\n",
    "    \n",
    "    # Get the correlation\n",
    "    corrs = sector_data[sector_data.columns[1:]].corr()['S&P 500 '+ sector +' (Sector)'][:-1]\n",
    "    \n",
    "    best_stocks[sector] = list(corrs.nlargest(num_stocks).index.values)"
   ]
  },
  {
   "cell_type": "code",
   "execution_count": 5,
   "metadata": {},
   "outputs": [
    {
     "data": {
      "text/plain": [
       "{'Industrials': ['AOS', 'AME', 'GD', 'EFX', 'DOV'],\n",
       " 'Health Care': ['AMGN', 'COO', 'BDX', 'CI', 'CNC'],\n",
       " 'Information Technology': ['ADBE', 'ADSK', 'ANSS', 'ACN', 'CDNS'],\n",
       " 'Communication Services': ['CMCSA', 'CHTR', 'GOOGL', 'GOOG', 'ATVI'],\n",
       " 'Consumer Discretionary': ['DHI', 'AMZN', 'EBAY', 'KMX', 'DG'],\n",
       " 'Utilities': ['AEP', 'LNT', 'CMS', 'DTE', 'AEE'],\n",
       " 'Financials': ['BAC', 'ALL', 'CBOE', 'SCHW', 'RE'],\n",
       " 'Materials': ['AVY', 'ECL', 'APD', 'FMC', 'BLL'],\n",
       " 'Real Estate': ['EXR', 'ESS', 'DRE', 'AIV', 'CCI'],\n",
       " 'Consumer Staples': ['KMB', 'STZ', 'CL', 'CHD', 'KO'],\n",
       " 'Energy': ['XOM', 'DVN', 'COP', 'APA', 'XEC']}"
      ]
     },
     "execution_count": 5,
     "metadata": {},
     "output_type": "execute_result"
    }
   ],
   "source": [
    "best_stocks"
   ]
  },
  {
   "cell_type": "code",
   "execution_count": null,
   "metadata": {},
   "outputs": [],
   "source": []
  }
 ],
 "metadata": {
  "kernelspec": {
   "display_name": "Python 3",
   "language": "python",
   "name": "python3"
  },
  "language_info": {
   "codemirror_mode": {
    "name": "ipython",
    "version": 3
   },
   "file_extension": ".py",
   "mimetype": "text/x-python",
   "name": "python",
   "nbconvert_exporter": "python",
   "pygments_lexer": "ipython3",
   "version": "3.7.9"
  }
 },
 "nbformat": 4,
 "nbformat_minor": 4
}
