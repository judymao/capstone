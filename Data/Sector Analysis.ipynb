{
 "cells": [
  {
   "cell_type": "code",
   "execution_count": 1,
   "metadata": {},
   "outputs": [],
   "source": [
    "import os\n",
    "import pandas as pd\n",
    "import numpy as np"
   ]
  },
  {
   "cell_type": "code",
   "execution_count": 2,
   "metadata": {},
   "outputs": [],
   "source": [
    "sp_data = pd.read_csv('sp500df.csv')\n",
    "sp_sector_mapping = pd.read_csv('SP500_Sectors.csv')\n",
    "sp_sectors_data = pd.read_csv('SP500_Sector_Data.csv')"
   ]
  },
  {
   "cell_type": "code",
   "execution_count": 6,
   "metadata": {},
   "outputs": [
    {
     "data": {
      "text/html": [
       "<div>\n",
       "<style scoped>\n",
       "    .dataframe tbody tr th:only-of-type {\n",
       "        vertical-align: middle;\n",
       "    }\n",
       "\n",
       "    .dataframe tbody tr th {\n",
       "        vertical-align: top;\n",
       "    }\n",
       "\n",
       "    .dataframe thead th {\n",
       "        text-align: right;\n",
       "    }\n",
       "</style>\n",
       "<table border=\"1\" class=\"dataframe\">\n",
       "  <thead>\n",
       "    <tr style=\"text-align: right;\">\n",
       "      <th></th>\n",
       "      <th>Ticker</th>\n",
       "      <th>Sector</th>\n",
       "      <th>Specifics</th>\n",
       "    </tr>\n",
       "  </thead>\n",
       "  <tbody>\n",
       "    <tr>\n",
       "      <th>0</th>\n",
       "      <td>MMM</td>\n",
       "      <td>Industrials</td>\n",
       "      <td>Industrial Conglomerates</td>\n",
       "    </tr>\n",
       "    <tr>\n",
       "      <th>1</th>\n",
       "      <td>AOS</td>\n",
       "      <td>Industrials</td>\n",
       "      <td>Building Products</td>\n",
       "    </tr>\n",
       "    <tr>\n",
       "      <th>2</th>\n",
       "      <td>ABT</td>\n",
       "      <td>Health Care</td>\n",
       "      <td>Health Care Equipment</td>\n",
       "    </tr>\n",
       "    <tr>\n",
       "      <th>3</th>\n",
       "      <td>ABBV</td>\n",
       "      <td>Health Care</td>\n",
       "      <td>Pharmaceuticals</td>\n",
       "    </tr>\n",
       "    <tr>\n",
       "      <th>4</th>\n",
       "      <td>ABMD</td>\n",
       "      <td>Health Care</td>\n",
       "      <td>Health Care Equipment</td>\n",
       "    </tr>\n",
       "  </tbody>\n",
       "</table>\n",
       "</div>"
      ],
      "text/plain": [
       "  Ticker       Sector                 Specifics\n",
       "0    MMM  Industrials  Industrial Conglomerates\n",
       "1    AOS  Industrials         Building Products\n",
       "2    ABT  Health Care     Health Care Equipment\n",
       "3   ABBV  Health Care           Pharmaceuticals\n",
       "4   ABMD  Health Care     Health Care Equipment"
      ]
     },
     "execution_count": 6,
     "metadata": {},
     "output_type": "execute_result"
    }
   ],
   "source": [
    "sp_sector_mapping.head()"
   ]
  },
  {
   "cell_type": "code",
   "execution_count": 3,
   "metadata": {},
   "outputs": [
    {
     "data": {
      "text/plain": [
       "Index(['Effective date ', 'S&P 500 Communication Services (Sector)',\n",
       "       'S&P 500 Consumer Discretionary (Sector)',\n",
       "       'S&P 500 Consumer Staples (Sector)', 'S&P 500 Energy (Sector)',\n",
       "       'S&P 500 Financials (Sector)', 'S&P 500 Health Care (Sector)',\n",
       "       'S&P 500 Industrials (Sector)',\n",
       "       'S&P 500 Information Technology (Sector)', 'S&P 500 Materials (Sector)',\n",
       "       'S&P 500 Real Estate (Sector)', 'S&P 500 Utilities (Sector)'],\n",
       "      dtype='object')"
      ]
     },
     "execution_count": 3,
     "metadata": {},
     "output_type": "execute_result"
    }
   ],
   "source": [
    "sp_sectors_data.columns"
   ]
  },
  {
   "cell_type": "code",
   "execution_count": 16,
   "metadata": {},
   "outputs": [
    {
     "name": "stdout",
     "output_type": "stream",
     "text": [
      "['CMCSA', 'CHTR', 'GOOGL', 'GOOG', 'ATVI', 'EA']\n"
     ]
    }
   ],
   "source": [
    "all_sp = sp_data.columns.values\n",
    "num_stocks = 5\n",
    "best_stocks = {}\n",
    "\n",
    "for sector in sp_sector_mapping.Sector.unique():\n",
    "    \n",
    "    # Get the tickers for that sector only, and select the values that are available in our dataframe\n",
    "    sector_tickers = sp_sector_mapping.Ticker.loc[sp_sector_mapping.Sector == sector]\n",
    "    sector_tickers = list(set(all_sp) & set(list(sector_tickers.values)))\n",
    "    \n",
    "    # Get the sector data, including for individual stocks\n",
    "    sector_data = sp_data[['Date'] + sector_tickers]\n",
    "    sector_data = pd.merge(sector_data, sp_sectors_data[['Effective date ', \\\n",
    "                                                        'S&P 500 '+ sector +' (Sector)']],\\\n",
    "                                                        left_on=['Date'], right_on=['Effective date '],\\\n",
    "                                                        how = 'left').drop(['Effective date '], axis=1)\n",
    "    \n",
    "    # Get the correlation\n",
    "    corrs = sector_data[sector_data.columns[1:]].corr()['S&P 500 '+ sector +' (Sector)'][:-1]\n",
    "    \n",
    "    if 'GOOG' in sector_data.columns[1:]:\n",
    "        all_best = list(corrs.nlargest(num_stocks+1).index.values)\n",
    "        print(all_best)\n",
    "        best_stocks[sector] = list(set(all_best).difference({'GOOG'}))\n",
    "    else:\n",
    "        best_stocks[sector] = list(corrs.nlargest(num_stocks).index.values)"
   ]
  },
  {
   "cell_type": "code",
   "execution_count": 15,
   "metadata": {},
   "outputs": [
    {
     "data": {
      "text/plain": [
       "{'Industrials': ['AOS', 'AME', 'GD', 'EFX', 'DOV'],\n",
       " 'Health Care': ['AMGN', 'COO', 'BDX', 'CI', 'CNC'],\n",
       " 'Information Technology': ['ADBE', 'ADSK', 'ANSS', 'ACN', 'CDNS'],\n",
       " 'Communication Services': ['EA', 'CMCSA', 'GOOG', 'GOOGL', 'CHTR', 'ATVI'],\n",
       " 'Consumer Discretionary': ['DHI', 'AMZN', 'EBAY', 'KMX', 'DG'],\n",
       " 'Utilities': ['AEP', 'LNT', 'CMS', 'DTE', 'AEE'],\n",
       " 'Financials': ['BAC', 'ALL', 'CBOE', 'SCHW', 'RE'],\n",
       " 'Materials': ['AVY', 'ECL', 'APD', 'FMC', 'BLL'],\n",
       " 'Real Estate': ['EXR', 'ESS', 'DRE', 'AIV', 'CCI'],\n",
       " 'Consumer Staples': ['KMB', 'STZ', 'CL', 'CHD', 'KO'],\n",
       " 'Energy': ['XOM', 'DVN', 'COP', 'APA', 'XEC']}"
      ]
     },
     "execution_count": 15,
     "metadata": {},
     "output_type": "execute_result"
    }
   ],
   "source": [
    "best_stocks"
   ]
  },
  {
   "cell_type": "code",
   "execution_count": null,
   "metadata": {},
   "outputs": [],
   "source": []
  }
 ],
 "metadata": {
  "kernelspec": {
   "display_name": "Python 3",
   "language": "python",
   "name": "python3"
  },
  "language_info": {
   "codemirror_mode": {
    "name": "ipython",
    "version": 3
   },
   "file_extension": ".py",
   "mimetype": "text/x-python",
   "name": "python",
   "nbconvert_exporter": "python",
   "pygments_lexer": "ipython3",
   "version": "3.7.9"
  }
 },
 "nbformat": 4,
 "nbformat_minor": 4
}
